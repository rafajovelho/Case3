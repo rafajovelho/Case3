{
 "cells": [
  {
   "cell_type": "markdown",
   "metadata": {},
   "source": [
    "# Contexto"
   ]
  },
  {
   "cell_type": "markdown",
   "metadata": {},
   "source": [
    "Você é o responsável por dados e análises no time de Relacionamento com o Cliente. Este time é responsável por cuidar dos nossos clientes, tirando todas as dúvidas e os ajudando a fazer melhor uso dos nossos produtos.\n",
    "\n",
    "Nos últimos tempos tivemos alguns problemas e precisamos da sua ajuda para tomarmos as melhores decisões para melhor atender nossos clientes. \n"
   ]
  },
  {
   "cell_type": "markdown",
   "metadata": {},
   "source": [
    "### Questões"
   ]
  },
  {
   "cell_type": "markdown",
   "metadata": {},
   "source": [
    "1.\tFoi implementada no dia 1 de agosto uma funcionalidade nova no site do Ton que acredita que irá diminuir a quantidade de chamados recebidos. Avalie se a implementação teve um impacto estatisticamente relevante."
   ]
  },
  {
   "cell_type": "markdown",
   "metadata": {},
   "source": [
    "2.\tFoi notado pelo nosso time que clientes recem credenciados possuem um comportamento específico em relação à quantidade de chamados realizados logo após seu credenciamento. Identifique e prepare alguma forma de visualizar essa diferença notada pelos agentes."
   ]
  },
  {
   "cell_type": "markdown",
   "metadata": {},
   "source": [
    "3.\tPara conseguir melhorar a qualidade do nosso atendimento ao cliente, foi proposto que a alguns chamados tenham prioridade de atendimento. Levando em consideração o motivo dos chamados, como você estabeleceria essa prioridade da fila de espera? Sugestão: Proponha uma clusterização da base de clientes que julgue atender da melhor forma a necessidade apresentada."
   ]
  },
  {
   "cell_type": "markdown",
   "metadata": {},
   "source": [
    "4.\tEscreva duas queries em SQL que retornem: \n",
    "\n",
    "i) o volume de chamados por semana dos últimos três meses para cada cluster de clientes proposto na questão 3.\n",
    "\n",
    "ii) uma série histórica dia a dia, que para cada dia retorne o número de chamados referentes aos últimos 30 dias (por exemplo, para o dia 30/01, a query deve retornar a quantidade de chamados totais entre os dias 01/01 e 30/01)\n"
   ]
  },
  {
   "cell_type": "markdown",
   "metadata": {},
   "source": [
    "5.\tQuestão de estudo livre: Como é esperado de um analista de dados, traga insights relevantes sobre pontos de atenção e possíveis melhorias que você identificou ao analisar ambas as bases de dados. Além disso faça pelo menos duas perguntas relacionadas aos dados que julgue relevantes para análise, você também pode sugerir outros dados para enriquecer os aqui disponibilizados."
   ]
  },
  {
   "cell_type": "markdown",
   "metadata": {},
   "source": [
    "### Imports"
   ]
  },
  {
   "cell_type": "code",
   "execution_count": 2,
   "metadata": {},
   "outputs": [],
   "source": [
    "# Importando pacotes\n",
    "import pandas as pd\n",
    "import numpy as np\n",
    "import seaborn as sns\n",
    "import matplotlib.pyplot as plt\n",
    "from scipy import stats"
   ]
  },
  {
   "cell_type": "markdown",
   "metadata": {},
   "source": [
    "### Dicionário"
   ]
  },
  {
   "cell_type": "code",
   "execution_count": 3,
   "metadata": {},
   "outputs": [],
   "source": [
    "dic_cases = pd.read_csv('dic_cases.csv')\n",
    "dic_creds = pd.read_csv('dic_creds.csv')"
   ]
  },
  {
   "cell_type": "code",
   "execution_count": 4,
   "metadata": {},
   "outputs": [
    {
     "data": {
      "text/html": [
       "<div>\n",
       "<style scoped>\n",
       "    .dataframe tbody tr th:only-of-type {\n",
       "        vertical-align: middle;\n",
       "    }\n",
       "\n",
       "    .dataframe tbody tr th {\n",
       "        vertical-align: top;\n",
       "    }\n",
       "\n",
       "    .dataframe thead th {\n",
       "        text-align: right;\n",
       "    }\n",
       "</style>\n",
       "<table border=\"1\" class=\"dataframe\">\n",
       "  <thead>\n",
       "    <tr style=\"text-align: right;\">\n",
       "      <th></th>\n",
       "      <th>accountid</th>\n",
       "      <th>Chave primária da tabela</th>\n",
       "    </tr>\n",
       "  </thead>\n",
       "  <tbody>\n",
       "    <tr>\n",
       "      <th>0</th>\n",
       "      <td>date_ref</td>\n",
       "      <td>Data do chamado</td>\n",
       "    </tr>\n",
       "    <tr>\n",
       "      <th>1</th>\n",
       "      <td>channelid</td>\n",
       "      <td>Canal do chamado (chat = 1; telefone = 2; e-ma...</td>\n",
       "    </tr>\n",
       "    <tr>\n",
       "      <th>2</th>\n",
       "      <td>waitingtime</td>\n",
       "      <td>Tempo de espera para atendimento (segundos)</td>\n",
       "    </tr>\n",
       "    <tr>\n",
       "      <th>3</th>\n",
       "      <td>missed</td>\n",
       "      <td>Flag de chamado atendido</td>\n",
       "    </tr>\n",
       "    <tr>\n",
       "      <th>4</th>\n",
       "      <td>pesquisa_de_satisfa_o__c</td>\n",
       "      <td>Flag de pesquisa de satisfação preenchida</td>\n",
       "    </tr>\n",
       "    <tr>\n",
       "      <th>5</th>\n",
       "      <td>assunto</td>\n",
       "      <td>Assunto do chamado</td>\n",
       "    </tr>\n",
       "    <tr>\n",
       "      <th>6</th>\n",
       "      <td>Id</td>\n",
       "      <td>Chave da tabela</td>\n",
       "    </tr>\n",
       "  </tbody>\n",
       "</table>\n",
       "</div>"
      ],
      "text/plain": [
       "                  accountid                           Chave primária da tabela\n",
       "0                  date_ref                                    Data do chamado\n",
       "1                 channelid  Canal do chamado (chat = 1; telefone = 2; e-ma...\n",
       "2               waitingtime        Tempo de espera para atendimento (segundos)\n",
       "3                    missed                           Flag de chamado atendido\n",
       "4  pesquisa_de_satisfa_o__c          Flag de pesquisa de satisfação preenchida\n",
       "5                   assunto                                 Assunto do chamado\n",
       "6                        Id                                    Chave da tabela"
      ]
     },
     "execution_count": 4,
     "metadata": {},
     "output_type": "execute_result"
    }
   ],
   "source": [
    "dic_cases"
   ]
  },
  {
   "cell_type": "code",
   "execution_count": 5,
   "metadata": {},
   "outputs": [
    {
     "data": {
      "text/html": [
       "<div>\n",
       "<style scoped>\n",
       "    .dataframe tbody tr th:only-of-type {\n",
       "        vertical-align: middle;\n",
       "    }\n",
       "\n",
       "    .dataframe tbody tr th {\n",
       "        vertical-align: top;\n",
       "    }\n",
       "\n",
       "    .dataframe thead th {\n",
       "        text-align: right;\n",
       "    }\n",
       "</style>\n",
       "<table border=\"1\" class=\"dataframe\">\n",
       "  <thead>\n",
       "    <tr style=\"text-align: right;\">\n",
       "      <th></th>\n",
       "      <th>Coluna</th>\n",
       "      <th>Descrição</th>\n",
       "    </tr>\n",
       "  </thead>\n",
       "  <tbody>\n",
       "    <tr>\n",
       "      <th>0</th>\n",
       "      <td>cred_date</td>\n",
       "      <td>Data de credenciamento</td>\n",
       "    </tr>\n",
       "    <tr>\n",
       "      <th>1</th>\n",
       "      <td>shipping_address_city</td>\n",
       "      <td>Endereço de entrega – cidade</td>\n",
       "    </tr>\n",
       "    <tr>\n",
       "      <th>2</th>\n",
       "      <td>shipping_address_state</td>\n",
       "      <td>Endereço de entrega – estado</td>\n",
       "    </tr>\n",
       "    <tr>\n",
       "      <th>3</th>\n",
       "      <td>max_machine</td>\n",
       "      <td>Produto adquirido</td>\n",
       "    </tr>\n",
       "    <tr>\n",
       "      <th>4</th>\n",
       "      <td>accountid</td>\n",
       "      <td>Chave secundária da tabela</td>\n",
       "    </tr>\n",
       "  </tbody>\n",
       "</table>\n",
       "</div>"
      ],
      "text/plain": [
       "                   Coluna                     Descrição\n",
       "0               cred_date        Data de credenciamento\n",
       "1   shipping_address_city  Endereço de entrega – cidade\n",
       "2  shipping_address_state  Endereço de entrega – estado\n",
       "3             max_machine             Produto adquirido\n",
       "4               accountid    Chave secundária da tabela"
      ]
     },
     "execution_count": 5,
     "metadata": {},
     "output_type": "execute_result"
    }
   ],
   "source": [
    "dic_creds"
   ]
  },
  {
   "cell_type": "markdown",
   "metadata": {},
   "source": [
    "# Análise de Dados"
   ]
  },
  {
   "cell_type": "code",
   "execution_count": 6,
   "metadata": {},
   "outputs": [],
   "source": [
    "# Carregamento dos dados\n",
    "df_cases = pd.read_csv('cases.csv')\n",
    "df = df_cases.copy()\n",
    "df_cred = pd.read_csv('creds.csv')\n",
    "df2 = df_cred.copy()"
   ]
  },
  {
   "cell_type": "code",
   "execution_count": 7,
   "metadata": {},
   "outputs": [
    {
     "data": {
      "text/html": [
       "<div>\n",
       "<style scoped>\n",
       "    .dataframe tbody tr th:only-of-type {\n",
       "        vertical-align: middle;\n",
       "    }\n",
       "\n",
       "    .dataframe tbody tr th {\n",
       "        vertical-align: top;\n",
       "    }\n",
       "\n",
       "    .dataframe thead th {\n",
       "        text-align: right;\n",
       "    }\n",
       "</style>\n",
       "<table border=\"1\" class=\"dataframe\">\n",
       "  <thead>\n",
       "    <tr style=\"text-align: right;\">\n",
       "      <th></th>\n",
       "      <th>Unnamed: 0</th>\n",
       "      <th>accountid</th>\n",
       "      <th>date_ref</th>\n",
       "      <th>channelid</th>\n",
       "      <th>waitingtime</th>\n",
       "      <th>missed</th>\n",
       "      <th>pesquisa_de_satisfa_o__c</th>\n",
       "      <th>assunto</th>\n",
       "      <th>Id</th>\n",
       "    </tr>\n",
       "  </thead>\n",
       "  <tbody>\n",
       "    <tr>\n",
       "      <th>0</th>\n",
       "      <td>0</td>\n",
       "      <td>NaN</td>\n",
       "      <td>NaN</td>\n",
       "      <td>NaN</td>\n",
       "      <td>NaN</td>\n",
       "      <td>NaN</td>\n",
       "      <td>NaN</td>\n",
       "      <td>NaN</td>\n",
       "      <td>NaN</td>\n",
       "    </tr>\n",
       "    <tr>\n",
       "      <th>1</th>\n",
       "      <td>1</td>\n",
       "      <td>NaN</td>\n",
       "      <td>NaN</td>\n",
       "      <td>NaN</td>\n",
       "      <td>NaN</td>\n",
       "      <td>NaN</td>\n",
       "      <td>NaN</td>\n",
       "      <td>NaN</td>\n",
       "      <td>NaN</td>\n",
       "    </tr>\n",
       "    <tr>\n",
       "      <th>2</th>\n",
       "      <td>2</td>\n",
       "      <td>NaN</td>\n",
       "      <td>NaN</td>\n",
       "      <td>NaN</td>\n",
       "      <td>NaN</td>\n",
       "      <td>NaN</td>\n",
       "      <td>NaN</td>\n",
       "      <td>NaN</td>\n",
       "      <td>NaN</td>\n",
       "    </tr>\n",
       "    <tr>\n",
       "      <th>3</th>\n",
       "      <td>3</td>\n",
       "      <td>NaN</td>\n",
       "      <td>NaN</td>\n",
       "      <td>NaN</td>\n",
       "      <td>NaN</td>\n",
       "      <td>NaN</td>\n",
       "      <td>NaN</td>\n",
       "      <td>NaN</td>\n",
       "      <td>NaN</td>\n",
       "    </tr>\n",
       "    <tr>\n",
       "      <th>4</th>\n",
       "      <td>4</td>\n",
       "      <td>0013j00002z0CeEAAU</td>\n",
       "      <td>2020-07-31</td>\n",
       "      <td>2.0</td>\n",
       "      <td>15.0</td>\n",
       "      <td>False</td>\n",
       "      <td>NaN</td>\n",
       "      <td>Aplicativo:Dúvidas funcionalidades App:Primeir...</td>\n",
       "      <td>0013j00002z0CeEAAU</td>\n",
       "    </tr>\n",
       "    <tr>\n",
       "      <th>...</th>\n",
       "      <td>...</td>\n",
       "      <td>...</td>\n",
       "      <td>...</td>\n",
       "      <td>...</td>\n",
       "      <td>...</td>\n",
       "      <td>...</td>\n",
       "      <td>...</td>\n",
       "      <td>...</td>\n",
       "      <td>...</td>\n",
       "    </tr>\n",
       "    <tr>\n",
       "      <th>126984</th>\n",
       "      <td>126984</td>\n",
       "      <td>0013j00002yi49FAAQ</td>\n",
       "      <td>2020-08-26</td>\n",
       "      <td>2.0</td>\n",
       "      <td>9.0</td>\n",
       "      <td>False</td>\n",
       "      <td>NaN</td>\n",
       "      <td>Aplicativo:Dúvidas funcionalidades App:Prazos ...</td>\n",
       "      <td>0013j00002yi49FAAQ</td>\n",
       "    </tr>\n",
       "    <tr>\n",
       "      <th>126985</th>\n",
       "      <td>126985</td>\n",
       "      <td>0013j00002yi49FAAQ</td>\n",
       "      <td>2020-09-09</td>\n",
       "      <td>2.0</td>\n",
       "      <td>4.0</td>\n",
       "      <td>False</td>\n",
       "      <td>NaN</td>\n",
       "      <td>Produto:D195:Ativação</td>\n",
       "      <td>0013j00002yi49FAAQ</td>\n",
       "    </tr>\n",
       "    <tr>\n",
       "      <th>126986</th>\n",
       "      <td>126986</td>\n",
       "      <td>0013j00002yi49FAAQ</td>\n",
       "      <td>2020-09-21</td>\n",
       "      <td>2.0</td>\n",
       "      <td>3.0</td>\n",
       "      <td>False</td>\n",
       "      <td>NaN</td>\n",
       "      <td>Cadastro:Recredenciamento:Dúvidas</td>\n",
       "      <td>0013j00002yi49FAAQ</td>\n",
       "    </tr>\n",
       "    <tr>\n",
       "      <th>126987</th>\n",
       "      <td>126987</td>\n",
       "      <td>0013j00002yi49FAAQ</td>\n",
       "      <td>2020-09-21</td>\n",
       "      <td>2.0</td>\n",
       "      <td>3.0</td>\n",
       "      <td>False</td>\n",
       "      <td>NaN</td>\n",
       "      <td>Produto:Cartão pré-pago:Dúvidas</td>\n",
       "      <td>0013j00002yi49FAAQ</td>\n",
       "    </tr>\n",
       "    <tr>\n",
       "      <th>126988</th>\n",
       "      <td>126988</td>\n",
       "      <td>0013j00002yi49FAAQ</td>\n",
       "      <td>2020-09-29</td>\n",
       "      <td>2.0</td>\n",
       "      <td>3.0</td>\n",
       "      <td>False</td>\n",
       "      <td>NaN</td>\n",
       "      <td>Logística:Gestão de equipamentos:</td>\n",
       "      <td>0013j00002yi49FAAQ</td>\n",
       "    </tr>\n",
       "  </tbody>\n",
       "</table>\n",
       "<p>126989 rows × 9 columns</p>\n",
       "</div>"
      ],
      "text/plain": [
       "        Unnamed: 0           accountid    date_ref  channelid  waitingtime  \\\n",
       "0                0                 NaN         NaN        NaN          NaN   \n",
       "1                1                 NaN         NaN        NaN          NaN   \n",
       "2                2                 NaN         NaN        NaN          NaN   \n",
       "3                3                 NaN         NaN        NaN          NaN   \n",
       "4                4  0013j00002z0CeEAAU  2020-07-31        2.0         15.0   \n",
       "...            ...                 ...         ...        ...          ...   \n",
       "126984      126984  0013j00002yi49FAAQ  2020-08-26        2.0          9.0   \n",
       "126985      126985  0013j00002yi49FAAQ  2020-09-09        2.0          4.0   \n",
       "126986      126986  0013j00002yi49FAAQ  2020-09-21        2.0          3.0   \n",
       "126987      126987  0013j00002yi49FAAQ  2020-09-21        2.0          3.0   \n",
       "126988      126988  0013j00002yi49FAAQ  2020-09-29        2.0          3.0   \n",
       "\n",
       "       missed pesquisa_de_satisfa_o__c  \\\n",
       "0         NaN                      NaN   \n",
       "1         NaN                      NaN   \n",
       "2         NaN                      NaN   \n",
       "3         NaN                      NaN   \n",
       "4       False                      NaN   \n",
       "...       ...                      ...   \n",
       "126984  False                      NaN   \n",
       "126985  False                      NaN   \n",
       "126986  False                      NaN   \n",
       "126987  False                      NaN   \n",
       "126988  False                      NaN   \n",
       "\n",
       "                                                  assunto                  Id  \n",
       "0                                                     NaN                 NaN  \n",
       "1                                                     NaN                 NaN  \n",
       "2                                                     NaN                 NaN  \n",
       "3                                                     NaN                 NaN  \n",
       "4       Aplicativo:Dúvidas funcionalidades App:Primeir...  0013j00002z0CeEAAU  \n",
       "...                                                   ...                 ...  \n",
       "126984  Aplicativo:Dúvidas funcionalidades App:Prazos ...  0013j00002yi49FAAQ  \n",
       "126985                              Produto:D195:Ativação  0013j00002yi49FAAQ  \n",
       "126986                  Cadastro:Recredenciamento:Dúvidas  0013j00002yi49FAAQ  \n",
       "126987                    Produto:Cartão pré-pago:Dúvidas  0013j00002yi49FAAQ  \n",
       "126988                  Logística:Gestão de equipamentos:  0013j00002yi49FAAQ  \n",
       "\n",
       "[126989 rows x 9 columns]"
      ]
     },
     "execution_count": 7,
     "metadata": {},
     "output_type": "execute_result"
    }
   ],
   "source": [
    "# Visualização dos dados\n",
    "df"
   ]
  },
  {
   "cell_type": "code",
   "execution_count": 8,
   "metadata": {},
   "outputs": [
    {
     "data": {
      "text/html": [
       "<div>\n",
       "<style scoped>\n",
       "    .dataframe tbody tr th:only-of-type {\n",
       "        vertical-align: middle;\n",
       "    }\n",
       "\n",
       "    .dataframe tbody tr th {\n",
       "        vertical-align: top;\n",
       "    }\n",
       "\n",
       "    .dataframe thead th {\n",
       "        text-align: right;\n",
       "    }\n",
       "</style>\n",
       "<table border=\"1\" class=\"dataframe\">\n",
       "  <thead>\n",
       "    <tr style=\"text-align: right;\">\n",
       "      <th></th>\n",
       "      <th>Unnamed: 0</th>\n",
       "      <th>cred_date</th>\n",
       "      <th>shipping_address_city</th>\n",
       "      <th>shipping_address_state</th>\n",
       "      <th>max_machine</th>\n",
       "      <th>accountid</th>\n",
       "    </tr>\n",
       "  </thead>\n",
       "  <tbody>\n",
       "    <tr>\n",
       "      <th>0</th>\n",
       "      <td>0</td>\n",
       "      <td>2020-04-18</td>\n",
       "      <td>Feira de Santana</td>\n",
       "      <td>BA</td>\n",
       "      <td>T1</td>\n",
       "      <td>NaN</td>\n",
       "    </tr>\n",
       "    <tr>\n",
       "      <th>1</th>\n",
       "      <td>1</td>\n",
       "      <td>2020-10-16</td>\n",
       "      <td>Bacuri</td>\n",
       "      <td>MA</td>\n",
       "      <td>T1</td>\n",
       "      <td>NaN</td>\n",
       "    </tr>\n",
       "    <tr>\n",
       "      <th>2</th>\n",
       "      <td>2</td>\n",
       "      <td>2020-09-01</td>\n",
       "      <td>Bernardo Sayão</td>\n",
       "      <td>TO</td>\n",
       "      <td>T1</td>\n",
       "      <td>NaN</td>\n",
       "    </tr>\n",
       "    <tr>\n",
       "      <th>3</th>\n",
       "      <td>3</td>\n",
       "      <td>2020-08-29</td>\n",
       "      <td>Rio de Janeiro</td>\n",
       "      <td>RJ</td>\n",
       "      <td>T3</td>\n",
       "      <td>NaN</td>\n",
       "    </tr>\n",
       "    <tr>\n",
       "      <th>4</th>\n",
       "      <td>4</td>\n",
       "      <td>2020-07-28</td>\n",
       "      <td>São Gonçalo</td>\n",
       "      <td>RJ</td>\n",
       "      <td>T3</td>\n",
       "      <td>0013j00002z0CeEAAU</td>\n",
       "    </tr>\n",
       "    <tr>\n",
       "      <th>...</th>\n",
       "      <td>...</td>\n",
       "      <td>...</td>\n",
       "      <td>...</td>\n",
       "      <td>...</td>\n",
       "      <td>...</td>\n",
       "      <td>...</td>\n",
       "    </tr>\n",
       "    <tr>\n",
       "      <th>126984</th>\n",
       "      <td>126984</td>\n",
       "      <td>2020-06-20</td>\n",
       "      <td>Petrópolis</td>\n",
       "      <td>RJ</td>\n",
       "      <td>T2</td>\n",
       "      <td>0013j00002yi49FAAQ</td>\n",
       "    </tr>\n",
       "    <tr>\n",
       "      <th>126985</th>\n",
       "      <td>126985</td>\n",
       "      <td>2020-06-20</td>\n",
       "      <td>Petrópolis</td>\n",
       "      <td>RJ</td>\n",
       "      <td>T2</td>\n",
       "      <td>0013j00002yi49FAAQ</td>\n",
       "    </tr>\n",
       "    <tr>\n",
       "      <th>126986</th>\n",
       "      <td>126986</td>\n",
       "      <td>2020-06-20</td>\n",
       "      <td>Petrópolis</td>\n",
       "      <td>RJ</td>\n",
       "      <td>T2</td>\n",
       "      <td>0013j00002yi49FAAQ</td>\n",
       "    </tr>\n",
       "    <tr>\n",
       "      <th>126987</th>\n",
       "      <td>126987</td>\n",
       "      <td>2020-06-20</td>\n",
       "      <td>Petrópolis</td>\n",
       "      <td>RJ</td>\n",
       "      <td>T2</td>\n",
       "      <td>0013j00002yi49FAAQ</td>\n",
       "    </tr>\n",
       "    <tr>\n",
       "      <th>126988</th>\n",
       "      <td>126988</td>\n",
       "      <td>2020-06-20</td>\n",
       "      <td>Petrópolis</td>\n",
       "      <td>RJ</td>\n",
       "      <td>T2</td>\n",
       "      <td>0013j00002yi49FAAQ</td>\n",
       "    </tr>\n",
       "  </tbody>\n",
       "</table>\n",
       "<p>126989 rows × 6 columns</p>\n",
       "</div>"
      ],
      "text/plain": [
       "        Unnamed: 0   cred_date shipping_address_city shipping_address_state  \\\n",
       "0                0  2020-04-18      Feira de Santana                     BA   \n",
       "1                1  2020-10-16                Bacuri                     MA   \n",
       "2                2  2020-09-01        Bernardo Sayão                     TO   \n",
       "3                3  2020-08-29        Rio de Janeiro                     RJ   \n",
       "4                4  2020-07-28           São Gonçalo                     RJ   \n",
       "...            ...         ...                   ...                    ...   \n",
       "126984      126984  2020-06-20            Petrópolis                     RJ   \n",
       "126985      126985  2020-06-20            Petrópolis                     RJ   \n",
       "126986      126986  2020-06-20            Petrópolis                     RJ   \n",
       "126987      126987  2020-06-20            Petrópolis                     RJ   \n",
       "126988      126988  2020-06-20            Petrópolis                     RJ   \n",
       "\n",
       "       max_machine           accountid  \n",
       "0               T1                 NaN  \n",
       "1               T1                 NaN  \n",
       "2               T1                 NaN  \n",
       "3               T3                 NaN  \n",
       "4               T3  0013j00002z0CeEAAU  \n",
       "...            ...                 ...  \n",
       "126984          T2  0013j00002yi49FAAQ  \n",
       "126985          T2  0013j00002yi49FAAQ  \n",
       "126986          T2  0013j00002yi49FAAQ  \n",
       "126987          T2  0013j00002yi49FAAQ  \n",
       "126988          T2  0013j00002yi49FAAQ  \n",
       "\n",
       "[126989 rows x 6 columns]"
      ]
     },
     "execution_count": 8,
     "metadata": {},
     "output_type": "execute_result"
    }
   ],
   "source": [
    "# Visualização dos dados\n",
    "df2"
   ]
  },
  {
   "cell_type": "markdown",
   "metadata": {},
   "source": [
    "## Limpeza e Tratamento dos Dados"
   ]
  },
  {
   "cell_type": "code",
   "execution_count": 9,
   "metadata": {},
   "outputs": [],
   "source": [
    "# Primeiramente irei remover a coluna 'Unnamed: 0' de ambos datasets pois esta representa apenas o índice\n",
    "df.drop(columns = 'Unnamed: 0', axis = 1, inplace= True)\n",
    "df2.drop(columns = 'Unnamed: 0', axis = 1, inplace= True)"
   ]
  },
  {
   "cell_type": "code",
   "execution_count": 10,
   "metadata": {},
   "outputs": [
    {
     "name": "stdout",
     "output_type": "stream",
     "text": [
      "(126989, 8)\n",
      "(126989, 5)\n"
     ]
    }
   ],
   "source": [
    "# Verificando o tamanho dos datasets\n",
    "print(df.shape)\n",
    "print(df2.shape)"
   ]
  },
  {
   "cell_type": "code",
   "execution_count": 11,
   "metadata": {},
   "outputs": [
    {
     "name": "stdout",
     "output_type": "stream",
     "text": [
      "<class 'pandas.core.frame.DataFrame'>\n",
      "RangeIndex: 126989 entries, 0 to 126988\n",
      "Data columns (total 8 columns):\n",
      " #   Column                    Non-Null Count  Dtype  \n",
      "---  ------                    --------------  -----  \n",
      " 0   accountid                 77489 non-null  object \n",
      " 1   date_ref                  77489 non-null  object \n",
      " 2   channelid                 77489 non-null  float64\n",
      " 3   waitingtime               77489 non-null  float64\n",
      " 4   missed                    77489 non-null  object \n",
      " 5   pesquisa_de_satisfa_o__c  11585 non-null  object \n",
      " 6   assunto                   77489 non-null  object \n",
      " 7   Id                        77489 non-null  object \n",
      "dtypes: float64(2), object(6)\n",
      "memory usage: 7.8+ MB\n"
     ]
    }
   ],
   "source": [
    "# Informativo dos datasets\n",
    "df.info()"
   ]
  },
  {
   "cell_type": "code",
   "execution_count": 12,
   "metadata": {},
   "outputs": [
    {
     "name": "stdout",
     "output_type": "stream",
     "text": [
      "<class 'pandas.core.frame.DataFrame'>\n",
      "RangeIndex: 126989 entries, 0 to 126988\n",
      "Data columns (total 5 columns):\n",
      " #   Column                  Non-Null Count   Dtype \n",
      "---  ------                  --------------   ----- \n",
      " 0   cred_date               126989 non-null  object\n",
      " 1   shipping_address_city   126989 non-null  object\n",
      " 2   shipping_address_state  126989 non-null  object\n",
      " 3   max_machine             126989 non-null  object\n",
      " 4   accountid               77489 non-null   object\n",
      "dtypes: object(5)\n",
      "memory usage: 4.8+ MB\n"
     ]
    }
   ],
   "source": [
    "df2.info()"
   ]
  },
  {
   "cell_type": "code",
   "execution_count": 13,
   "metadata": {},
   "outputs": [],
   "source": [
    "# Renomeando as colunas\n",
    "df.columns = ['id_conta','data','id_canal','tempo_espera','chamada_perdida','pesquisa_satisfacao','assunto','id']"
   ]
  },
  {
   "cell_type": "code",
   "execution_count": 14,
   "metadata": {},
   "outputs": [],
   "source": [
    "# Renomeando as colunas\n",
    "df2.columns = ['data_cred', 'endereco_entrega_cidade', 'endereco_entrega_estado', 'produto_adquirido', 'id_conta']"
   ]
  },
  {
   "cell_type": "markdown",
   "metadata": {},
   "source": [
    "### Valores NaN"
   ]
  },
  {
   "cell_type": "code",
   "execution_count": 15,
   "metadata": {},
   "outputs": [
    {
     "data": {
      "text/plain": [
       "id_conta                49500\n",
       "data                    49500\n",
       "id_canal                49500\n",
       "tempo_espera            49500\n",
       "chamada_perdida         49500\n",
       "pesquisa_satisfacao    115404\n",
       "assunto                 49500\n",
       "id                      49500\n",
       "dtype: int64"
      ]
     },
     "execution_count": 15,
     "metadata": {},
     "output_type": "execute_result"
    }
   ],
   "source": [
    "# Verificando os valores NaN\n",
    "df.isna().sum()"
   ]
  },
  {
   "cell_type": "code",
   "execution_count": 16,
   "metadata": {},
   "outputs": [
    {
     "data": {
      "text/plain": [
       "data_cred                      0\n",
       "endereco_entrega_cidade        0\n",
       "endereco_entrega_estado        0\n",
       "produto_adquirido              0\n",
       "id_conta                   49500\n",
       "dtype: int64"
      ]
     },
     "execution_count": 16,
     "metadata": {},
     "output_type": "execute_result"
    }
   ],
   "source": [
    "df2.isna().sum()"
   ]
  },
  {
   "cell_type": "code",
   "execution_count": 17,
   "metadata": {},
   "outputs": [
    {
     "data": {
      "text/plain": [
       "id_conta                   0\n",
       "data                       0\n",
       "id_canal                   0\n",
       "tempo_espera               0\n",
       "chamada_perdida            0\n",
       "pesquisa_satisfacao    65904\n",
       "assunto                    0\n",
       "id                         0\n",
       "dtype: int64"
      ]
     },
     "execution_count": 17,
     "metadata": {},
     "output_type": "execute_result"
    }
   ],
   "source": [
    "# Remover os registros onde todos os valores são NaN\n",
    "df.dropna(axis = 0, how = 'all', inplace= True)\n",
    "df.isna().sum()"
   ]
  },
  {
   "cell_type": "code",
   "execution_count": 18,
   "metadata": {},
   "outputs": [
    {
     "data": {
      "text/html": [
       "<div>\n",
       "<style scoped>\n",
       "    .dataframe tbody tr th:only-of-type {\n",
       "        vertical-align: middle;\n",
       "    }\n",
       "\n",
       "    .dataframe tbody tr th {\n",
       "        vertical-align: top;\n",
       "    }\n",
       "\n",
       "    .dataframe thead th {\n",
       "        text-align: right;\n",
       "    }\n",
       "</style>\n",
       "<table border=\"1\" class=\"dataframe\">\n",
       "  <thead>\n",
       "    <tr style=\"text-align: right;\">\n",
       "      <th></th>\n",
       "      <th>id_conta</th>\n",
       "      <th>data</th>\n",
       "      <th>id_canal</th>\n",
       "      <th>tempo_espera</th>\n",
       "      <th>chamada_perdida</th>\n",
       "      <th>pesquisa_satisfacao</th>\n",
       "      <th>assunto</th>\n",
       "      <th>id</th>\n",
       "    </tr>\n",
       "  </thead>\n",
       "  <tbody>\n",
       "    <tr>\n",
       "      <th>4</th>\n",
       "      <td>0013j00002z0CeEAAU</td>\n",
       "      <td>2020-07-31</td>\n",
       "      <td>2.0</td>\n",
       "      <td>15.0</td>\n",
       "      <td>False</td>\n",
       "      <td>NaN</td>\n",
       "      <td>Aplicativo:Dúvidas funcionalidades App:Primeir...</td>\n",
       "      <td>0013j00002z0CeEAAU</td>\n",
       "    </tr>\n",
       "    <tr>\n",
       "      <th>5</th>\n",
       "      <td>0013j00002z0CeEAAU</td>\n",
       "      <td>2020-07-31</td>\n",
       "      <td>2.0</td>\n",
       "      <td>15.0</td>\n",
       "      <td>False</td>\n",
       "      <td>NaN</td>\n",
       "      <td>Produto:S920:Ativação</td>\n",
       "      <td>0013j00002z0CeEAAU</td>\n",
       "    </tr>\n",
       "    <tr>\n",
       "      <th>6</th>\n",
       "      <td>0013j00002z0CeEAAU</td>\n",
       "      <td>2020-09-23</td>\n",
       "      <td>2.0</td>\n",
       "      <td>1.0</td>\n",
       "      <td>False</td>\n",
       "      <td>NaN</td>\n",
       "      <td>Produto:Cartão pré-pago:Dúvidas</td>\n",
       "      <td>0013j00002z0CeEAAU</td>\n",
       "    </tr>\n",
       "    <tr>\n",
       "      <th>7</th>\n",
       "      <td>0013j00002zQgldAAC</td>\n",
       "      <td>2020-08-29</td>\n",
       "      <td>2.0</td>\n",
       "      <td>6.0</td>\n",
       "      <td>False</td>\n",
       "      <td>NaN</td>\n",
       "      <td>Logística:Envio de Cartão:Tracking</td>\n",
       "      <td>0013j00002zQgldAAC</td>\n",
       "    </tr>\n",
       "    <tr>\n",
       "      <th>8</th>\n",
       "      <td>0013j00002zQgldAAC</td>\n",
       "      <td>2020-08-29</td>\n",
       "      <td>2.0</td>\n",
       "      <td>6.0</td>\n",
       "      <td>False</td>\n",
       "      <td>NaN</td>\n",
       "      <td>Pedido:Cancelamento:Outros</td>\n",
       "      <td>0013j00002zQgldAAC</td>\n",
       "    </tr>\n",
       "    <tr>\n",
       "      <th>...</th>\n",
       "      <td>...</td>\n",
       "      <td>...</td>\n",
       "      <td>...</td>\n",
       "      <td>...</td>\n",
       "      <td>...</td>\n",
       "      <td>...</td>\n",
       "      <td>...</td>\n",
       "      <td>...</td>\n",
       "    </tr>\n",
       "    <tr>\n",
       "      <th>126984</th>\n",
       "      <td>0013j00002yi49FAAQ</td>\n",
       "      <td>2020-08-26</td>\n",
       "      <td>2.0</td>\n",
       "      <td>9.0</td>\n",
       "      <td>False</td>\n",
       "      <td>NaN</td>\n",
       "      <td>Aplicativo:Dúvidas funcionalidades App:Prazos ...</td>\n",
       "      <td>0013j00002yi49FAAQ</td>\n",
       "    </tr>\n",
       "    <tr>\n",
       "      <th>126985</th>\n",
       "      <td>0013j00002yi49FAAQ</td>\n",
       "      <td>2020-09-09</td>\n",
       "      <td>2.0</td>\n",
       "      <td>4.0</td>\n",
       "      <td>False</td>\n",
       "      <td>NaN</td>\n",
       "      <td>Produto:D195:Ativação</td>\n",
       "      <td>0013j00002yi49FAAQ</td>\n",
       "    </tr>\n",
       "    <tr>\n",
       "      <th>126986</th>\n",
       "      <td>0013j00002yi49FAAQ</td>\n",
       "      <td>2020-09-21</td>\n",
       "      <td>2.0</td>\n",
       "      <td>3.0</td>\n",
       "      <td>False</td>\n",
       "      <td>NaN</td>\n",
       "      <td>Cadastro:Recredenciamento:Dúvidas</td>\n",
       "      <td>0013j00002yi49FAAQ</td>\n",
       "    </tr>\n",
       "    <tr>\n",
       "      <th>126987</th>\n",
       "      <td>0013j00002yi49FAAQ</td>\n",
       "      <td>2020-09-21</td>\n",
       "      <td>2.0</td>\n",
       "      <td>3.0</td>\n",
       "      <td>False</td>\n",
       "      <td>NaN</td>\n",
       "      <td>Produto:Cartão pré-pago:Dúvidas</td>\n",
       "      <td>0013j00002yi49FAAQ</td>\n",
       "    </tr>\n",
       "    <tr>\n",
       "      <th>126988</th>\n",
       "      <td>0013j00002yi49FAAQ</td>\n",
       "      <td>2020-09-29</td>\n",
       "      <td>2.0</td>\n",
       "      <td>3.0</td>\n",
       "      <td>False</td>\n",
       "      <td>NaN</td>\n",
       "      <td>Logística:Gestão de equipamentos:</td>\n",
       "      <td>0013j00002yi49FAAQ</td>\n",
       "    </tr>\n",
       "  </tbody>\n",
       "</table>\n",
       "<p>65904 rows × 8 columns</p>\n",
       "</div>"
      ],
      "text/plain": [
       "                  id_conta        data  id_canal  tempo_espera  \\\n",
       "4       0013j00002z0CeEAAU  2020-07-31       2.0          15.0   \n",
       "5       0013j00002z0CeEAAU  2020-07-31       2.0          15.0   \n",
       "6       0013j00002z0CeEAAU  2020-09-23       2.0           1.0   \n",
       "7       0013j00002zQgldAAC  2020-08-29       2.0           6.0   \n",
       "8       0013j00002zQgldAAC  2020-08-29       2.0           6.0   \n",
       "...                    ...         ...       ...           ...   \n",
       "126984  0013j00002yi49FAAQ  2020-08-26       2.0           9.0   \n",
       "126985  0013j00002yi49FAAQ  2020-09-09       2.0           4.0   \n",
       "126986  0013j00002yi49FAAQ  2020-09-21       2.0           3.0   \n",
       "126987  0013j00002yi49FAAQ  2020-09-21       2.0           3.0   \n",
       "126988  0013j00002yi49FAAQ  2020-09-29       2.0           3.0   \n",
       "\n",
       "       chamada_perdida pesquisa_satisfacao  \\\n",
       "4                False                 NaN   \n",
       "5                False                 NaN   \n",
       "6                False                 NaN   \n",
       "7                False                 NaN   \n",
       "8                False                 NaN   \n",
       "...                ...                 ...   \n",
       "126984           False                 NaN   \n",
       "126985           False                 NaN   \n",
       "126986           False                 NaN   \n",
       "126987           False                 NaN   \n",
       "126988           False                 NaN   \n",
       "\n",
       "                                                  assunto                  id  \n",
       "4       Aplicativo:Dúvidas funcionalidades App:Primeir...  0013j00002z0CeEAAU  \n",
       "5                                   Produto:S920:Ativação  0013j00002z0CeEAAU  \n",
       "6                         Produto:Cartão pré-pago:Dúvidas  0013j00002z0CeEAAU  \n",
       "7                      Logística:Envio de Cartão:Tracking  0013j00002zQgldAAC  \n",
       "8                              Pedido:Cancelamento:Outros  0013j00002zQgldAAC  \n",
       "...                                                   ...                 ...  \n",
       "126984  Aplicativo:Dúvidas funcionalidades App:Prazos ...  0013j00002yi49FAAQ  \n",
       "126985                              Produto:D195:Ativação  0013j00002yi49FAAQ  \n",
       "126986                  Cadastro:Recredenciamento:Dúvidas  0013j00002yi49FAAQ  \n",
       "126987                    Produto:Cartão pré-pago:Dúvidas  0013j00002yi49FAAQ  \n",
       "126988                  Logística:Gestão de equipamentos:  0013j00002yi49FAAQ  \n",
       "\n",
       "[65904 rows x 8 columns]"
      ]
     },
     "execution_count": 18,
     "metadata": {},
     "output_type": "execute_result"
    }
   ],
   "source": [
    "# Visualizando os registros que temos valores NaN na variável 'pesquisa_satisfacao'\n",
    "df[(df['pesquisa_satisfacao'].isna())]"
   ]
  },
  {
   "cell_type": "code",
   "execution_count": 19,
   "metadata": {},
   "outputs": [
    {
     "data": {
      "text/plain": [
       "Enviado        9996\n",
       "Incrivel        899\n",
       "Bom             425\n",
       "Normal          112\n",
       "NaoResolveu     107\n",
       "Feliz            19\n",
       "MalAtendido      16\n",
       "Triste            6\n",
       "Pessimo           3\n",
       "Cansativo         2\n",
       "Name: pesquisa_satisfacao, dtype: int64"
      ]
     },
     "execution_count": 19,
     "metadata": {},
     "output_type": "execute_result"
    }
   ],
   "source": [
    "# Verificando os valores que temos na variável 'pesquisa_satisfacao'\n",
    "df[(df['pesquisa_satisfacao'].isna() == False)]['pesquisa_satisfacao'].value_counts()"
   ]
  },
  {
   "cell_type": "code",
   "execution_count": 20,
   "metadata": {},
   "outputs": [],
   "source": [
    "# Vamos imputar o valor 'Sem_resposta'\n",
    "df['pesquisa_satisfacao'] = df['pesquisa_satisfacao'].fillna('Sem_resposta')"
   ]
  },
  {
   "cell_type": "code",
   "execution_count": 21,
   "metadata": {},
   "outputs": [
    {
     "data": {
      "text/html": [
       "<div>\n",
       "<style scoped>\n",
       "    .dataframe tbody tr th:only-of-type {\n",
       "        vertical-align: middle;\n",
       "    }\n",
       "\n",
       "    .dataframe tbody tr th {\n",
       "        vertical-align: top;\n",
       "    }\n",
       "\n",
       "    .dataframe thead th {\n",
       "        text-align: right;\n",
       "    }\n",
       "</style>\n",
       "<table border=\"1\" class=\"dataframe\">\n",
       "  <thead>\n",
       "    <tr style=\"text-align: right;\">\n",
       "      <th></th>\n",
       "      <th>data_cred</th>\n",
       "      <th>endereco_entrega_cidade</th>\n",
       "      <th>endereco_entrega_estado</th>\n",
       "      <th>produto_adquirido</th>\n",
       "      <th>id_conta</th>\n",
       "    </tr>\n",
       "  </thead>\n",
       "  <tbody>\n",
       "    <tr>\n",
       "      <th>0</th>\n",
       "      <td>2020-04-18</td>\n",
       "      <td>Feira de Santana</td>\n",
       "      <td>BA</td>\n",
       "      <td>T1</td>\n",
       "      <td>NaN</td>\n",
       "    </tr>\n",
       "    <tr>\n",
       "      <th>1</th>\n",
       "      <td>2020-10-16</td>\n",
       "      <td>Bacuri</td>\n",
       "      <td>MA</td>\n",
       "      <td>T1</td>\n",
       "      <td>NaN</td>\n",
       "    </tr>\n",
       "    <tr>\n",
       "      <th>2</th>\n",
       "      <td>2020-09-01</td>\n",
       "      <td>Bernardo Sayão</td>\n",
       "      <td>TO</td>\n",
       "      <td>T1</td>\n",
       "      <td>NaN</td>\n",
       "    </tr>\n",
       "    <tr>\n",
       "      <th>3</th>\n",
       "      <td>2020-08-29</td>\n",
       "      <td>Rio de Janeiro</td>\n",
       "      <td>RJ</td>\n",
       "      <td>T3</td>\n",
       "      <td>NaN</td>\n",
       "    </tr>\n",
       "    <tr>\n",
       "      <th>11</th>\n",
       "      <td>2020-10-28</td>\n",
       "      <td>Biguaçu</td>\n",
       "      <td>SC</td>\n",
       "      <td>T1</td>\n",
       "      <td>NaN</td>\n",
       "    </tr>\n",
       "    <tr>\n",
       "      <th>...</th>\n",
       "      <td>...</td>\n",
       "      <td>...</td>\n",
       "      <td>...</td>\n",
       "      <td>...</td>\n",
       "      <td>...</td>\n",
       "    </tr>\n",
       "    <tr>\n",
       "      <th>126946</th>\n",
       "      <td>2020-10-24</td>\n",
       "      <td>São João Batista</td>\n",
       "      <td>SC</td>\n",
       "      <td>T1</td>\n",
       "      <td>NaN</td>\n",
       "    </tr>\n",
       "    <tr>\n",
       "      <th>126960</th>\n",
       "      <td>2020-07-16</td>\n",
       "      <td>São Gonçalo</td>\n",
       "      <td>RJ</td>\n",
       "      <td>T3</td>\n",
       "      <td>NaN</td>\n",
       "    </tr>\n",
       "    <tr>\n",
       "      <th>126967</th>\n",
       "      <td>2020-09-05</td>\n",
       "      <td>Aracaju</td>\n",
       "      <td>SE</td>\n",
       "      <td>T1</td>\n",
       "      <td>NaN</td>\n",
       "    </tr>\n",
       "    <tr>\n",
       "      <th>126973</th>\n",
       "      <td>2020-10-20</td>\n",
       "      <td>Feira de Santana</td>\n",
       "      <td>BA</td>\n",
       "      <td>T2</td>\n",
       "      <td>NaN</td>\n",
       "    </tr>\n",
       "    <tr>\n",
       "      <th>126981</th>\n",
       "      <td>2020-09-28</td>\n",
       "      <td>Niterói</td>\n",
       "      <td>RJ</td>\n",
       "      <td>T3</td>\n",
       "      <td>NaN</td>\n",
       "    </tr>\n",
       "  </tbody>\n",
       "</table>\n",
       "<p>49500 rows × 5 columns</p>\n",
       "</div>"
      ],
      "text/plain": [
       "         data_cred endereco_entrega_cidade endereco_entrega_estado  \\\n",
       "0       2020-04-18        Feira de Santana                      BA   \n",
       "1       2020-10-16                  Bacuri                      MA   \n",
       "2       2020-09-01          Bernardo Sayão                      TO   \n",
       "3       2020-08-29          Rio de Janeiro                      RJ   \n",
       "11      2020-10-28                 Biguaçu                      SC   \n",
       "...            ...                     ...                     ...   \n",
       "126946  2020-10-24        São João Batista                      SC   \n",
       "126960  2020-07-16             São Gonçalo                      RJ   \n",
       "126967  2020-09-05                 Aracaju                      SE   \n",
       "126973  2020-10-20        Feira de Santana                      BA   \n",
       "126981  2020-09-28                 Niterói                      RJ   \n",
       "\n",
       "       produto_adquirido id_conta  \n",
       "0                     T1      NaN  \n",
       "1                     T1      NaN  \n",
       "2                     T1      NaN  \n",
       "3                     T3      NaN  \n",
       "11                    T1      NaN  \n",
       "...                  ...      ...  \n",
       "126946                T1      NaN  \n",
       "126960                T3      NaN  \n",
       "126967                T1      NaN  \n",
       "126973                T2      NaN  \n",
       "126981                T3      NaN  \n",
       "\n",
       "[49500 rows x 5 columns]"
      ]
     },
     "execution_count": 21,
     "metadata": {},
     "output_type": "execute_result"
    }
   ],
   "source": [
    "# Visualizando os registro onde temos valores na no df2.\n",
    "df2[(df2['id_conta'].isna())] # Por enquanto irei manter esses registros. Caso seja necessário, farei sua remoção posteriormente"
   ]
  },
  {
   "cell_type": "code",
   "execution_count": 22,
   "metadata": {},
   "outputs": [
    {
     "data": {
      "text/plain": [
       "T1      48604\n",
       "T2      41503\n",
       "T3      35419\n",
       "NONE     1463\n",
       "Name: produto_adquirido, dtype: int64"
      ]
     },
     "execution_count": 22,
     "metadata": {},
     "output_type": "execute_result"
    }
   ],
   "source": [
    "df2['produto_adquirido'].value_counts()"
   ]
  },
  {
   "cell_type": "markdown",
   "metadata": {},
   "source": [
    "### Removendo coluna"
   ]
  },
  {
   "cell_type": "code",
   "execution_count": 23,
   "metadata": {},
   "outputs": [
    {
     "data": {
      "text/html": [
       "<div>\n",
       "<style scoped>\n",
       "    .dataframe tbody tr th:only-of-type {\n",
       "        vertical-align: middle;\n",
       "    }\n",
       "\n",
       "    .dataframe tbody tr th {\n",
       "        vertical-align: top;\n",
       "    }\n",
       "\n",
       "    .dataframe thead th {\n",
       "        text-align: right;\n",
       "    }\n",
       "</style>\n",
       "<table border=\"1\" class=\"dataframe\">\n",
       "  <thead>\n",
       "    <tr style=\"text-align: right;\">\n",
       "      <th></th>\n",
       "      <th>id_conta</th>\n",
       "      <th>data</th>\n",
       "      <th>id_canal</th>\n",
       "      <th>tempo_espera</th>\n",
       "      <th>chamada_perdida</th>\n",
       "      <th>pesquisa_satisfacao</th>\n",
       "      <th>assunto</th>\n",
       "      <th>id</th>\n",
       "    </tr>\n",
       "  </thead>\n",
       "  <tbody>\n",
       "  </tbody>\n",
       "</table>\n",
       "</div>"
      ],
      "text/plain": [
       "Empty DataFrame\n",
       "Columns: [id_conta, data, id_canal, tempo_espera, chamada_perdida, pesquisa_satisfacao, assunto, id]\n",
       "Index: []"
      ]
     },
     "execution_count": 23,
     "metadata": {},
     "output_type": "execute_result"
    }
   ],
   "source": [
    "# Remover a coluna id ou id_conta do df pois ambas representam a mesma informação\n",
    "df[(df['id_conta'] != df['id'])]"
   ]
  },
  {
   "cell_type": "code",
   "execution_count": 24,
   "metadata": {},
   "outputs": [
    {
     "data": {
      "text/plain": [
       "4         0013j00002z0CeEAAU\n",
       "5         0013j00002z0CeEAAU\n",
       "6         0013j00002z0CeEAAU\n",
       "7         0013j00002zQgldAAC\n",
       "8         0013j00002zQgldAAC\n",
       "                 ...        \n",
       "126984    0013j00002yi49FAAQ\n",
       "126985    0013j00002yi49FAAQ\n",
       "126986    0013j00002yi49FAAQ\n",
       "126987    0013j00002yi49FAAQ\n",
       "126988    0013j00002yi49FAAQ\n",
       "Name: id_conta, Length: 77489, dtype: object"
      ]
     },
     "execution_count": 24,
     "metadata": {},
     "output_type": "execute_result"
    }
   ],
   "source": [
    "df.pop('id_conta')"
   ]
  },
  {
   "cell_type": "code",
   "execution_count": 25,
   "metadata": {},
   "outputs": [
    {
     "data": {
      "text/plain": [
       "Index(['data', 'id_canal', 'tempo_espera', 'chamada_perdida',\n",
       "       'pesquisa_satisfacao', 'assunto', 'id'],\n",
       "      dtype='object')"
      ]
     },
     "execution_count": 25,
     "metadata": {},
     "output_type": "execute_result"
    }
   ],
   "source": [
    "df.columns"
   ]
  },
  {
   "cell_type": "markdown",
   "metadata": {},
   "source": [
    "### Valores Duplicados"
   ]
  },
  {
   "cell_type": "code",
   "execution_count": 26,
   "metadata": {},
   "outputs": [
    {
     "name": "stdout",
     "output_type": "stream",
     "text": [
      "0\n",
      "60832\n"
     ]
    }
   ],
   "source": [
    "# Verificando registros duplicados\n",
    "print(df.duplicated().sum())\n",
    "print(df2.duplicated().sum())"
   ]
  },
  {
   "cell_type": "code",
   "execution_count": 27,
   "metadata": {},
   "outputs": [
    {
     "data": {
      "text/html": [
       "<div>\n",
       "<style scoped>\n",
       "    .dataframe tbody tr th:only-of-type {\n",
       "        vertical-align: middle;\n",
       "    }\n",
       "\n",
       "    .dataframe tbody tr th {\n",
       "        vertical-align: top;\n",
       "    }\n",
       "\n",
       "    .dataframe thead th {\n",
       "        text-align: right;\n",
       "    }\n",
       "</style>\n",
       "<table border=\"1\" class=\"dataframe\">\n",
       "  <thead>\n",
       "    <tr style=\"text-align: right;\">\n",
       "      <th></th>\n",
       "      <th>data_cred</th>\n",
       "      <th>endereco_entrega_cidade</th>\n",
       "      <th>endereco_entrega_estado</th>\n",
       "      <th>produto_adquirido</th>\n",
       "      <th>id_conta</th>\n",
       "    </tr>\n",
       "  </thead>\n",
       "  <tbody>\n",
       "    <tr>\n",
       "      <th>5</th>\n",
       "      <td>2020-07-28</td>\n",
       "      <td>São Gonçalo</td>\n",
       "      <td>RJ</td>\n",
       "      <td>T3</td>\n",
       "      <td>0013j00002z0CeEAAU</td>\n",
       "    </tr>\n",
       "    <tr>\n",
       "      <th>6</th>\n",
       "      <td>2020-07-28</td>\n",
       "      <td>São Gonçalo</td>\n",
       "      <td>RJ</td>\n",
       "      <td>T3</td>\n",
       "      <td>0013j00002z0CeEAAU</td>\n",
       "    </tr>\n",
       "    <tr>\n",
       "      <th>8</th>\n",
       "      <td>2020-08-28</td>\n",
       "      <td>Itaboraí</td>\n",
       "      <td>RJ</td>\n",
       "      <td>T1</td>\n",
       "      <td>0013j00002zQgldAAC</td>\n",
       "    </tr>\n",
       "    <tr>\n",
       "      <th>9</th>\n",
       "      <td>2020-08-28</td>\n",
       "      <td>Itaboraí</td>\n",
       "      <td>RJ</td>\n",
       "      <td>T1</td>\n",
       "      <td>0013j00002zQgldAAC</td>\n",
       "    </tr>\n",
       "    <tr>\n",
       "      <th>10</th>\n",
       "      <td>2020-08-28</td>\n",
       "      <td>Itaboraí</td>\n",
       "      <td>RJ</td>\n",
       "      <td>T1</td>\n",
       "      <td>0013j00002zQgldAAC</td>\n",
       "    </tr>\n",
       "    <tr>\n",
       "      <th>...</th>\n",
       "      <td>...</td>\n",
       "      <td>...</td>\n",
       "      <td>...</td>\n",
       "      <td>...</td>\n",
       "      <td>...</td>\n",
       "    </tr>\n",
       "    <tr>\n",
       "      <th>126984</th>\n",
       "      <td>2020-06-20</td>\n",
       "      <td>Petrópolis</td>\n",
       "      <td>RJ</td>\n",
       "      <td>T2</td>\n",
       "      <td>0013j00002yi49FAAQ</td>\n",
       "    </tr>\n",
       "    <tr>\n",
       "      <th>126985</th>\n",
       "      <td>2020-06-20</td>\n",
       "      <td>Petrópolis</td>\n",
       "      <td>RJ</td>\n",
       "      <td>T2</td>\n",
       "      <td>0013j00002yi49FAAQ</td>\n",
       "    </tr>\n",
       "    <tr>\n",
       "      <th>126986</th>\n",
       "      <td>2020-06-20</td>\n",
       "      <td>Petrópolis</td>\n",
       "      <td>RJ</td>\n",
       "      <td>T2</td>\n",
       "      <td>0013j00002yi49FAAQ</td>\n",
       "    </tr>\n",
       "    <tr>\n",
       "      <th>126987</th>\n",
       "      <td>2020-06-20</td>\n",
       "      <td>Petrópolis</td>\n",
       "      <td>RJ</td>\n",
       "      <td>T2</td>\n",
       "      <td>0013j00002yi49FAAQ</td>\n",
       "    </tr>\n",
       "    <tr>\n",
       "      <th>126988</th>\n",
       "      <td>2020-06-20</td>\n",
       "      <td>Petrópolis</td>\n",
       "      <td>RJ</td>\n",
       "      <td>T2</td>\n",
       "      <td>0013j00002yi49FAAQ</td>\n",
       "    </tr>\n",
       "  </tbody>\n",
       "</table>\n",
       "<p>60832 rows × 5 columns</p>\n",
       "</div>"
      ],
      "text/plain": [
       "         data_cred endereco_entrega_cidade endereco_entrega_estado  \\\n",
       "5       2020-07-28             São Gonçalo                      RJ   \n",
       "6       2020-07-28             São Gonçalo                      RJ   \n",
       "8       2020-08-28                Itaboraí                      RJ   \n",
       "9       2020-08-28                Itaboraí                      RJ   \n",
       "10      2020-08-28                Itaboraí                      RJ   \n",
       "...            ...                     ...                     ...   \n",
       "126984  2020-06-20              Petrópolis                      RJ   \n",
       "126985  2020-06-20              Petrópolis                      RJ   \n",
       "126986  2020-06-20              Petrópolis                      RJ   \n",
       "126987  2020-06-20              Petrópolis                      RJ   \n",
       "126988  2020-06-20              Petrópolis                      RJ   \n",
       "\n",
       "       produto_adquirido            id_conta  \n",
       "5                     T3  0013j00002z0CeEAAU  \n",
       "6                     T3  0013j00002z0CeEAAU  \n",
       "8                     T1  0013j00002zQgldAAC  \n",
       "9                     T1  0013j00002zQgldAAC  \n",
       "10                    T1  0013j00002zQgldAAC  \n",
       "...                  ...                 ...  \n",
       "126984                T2  0013j00002yi49FAAQ  \n",
       "126985                T2  0013j00002yi49FAAQ  \n",
       "126986                T2  0013j00002yi49FAAQ  \n",
       "126987                T2  0013j00002yi49FAAQ  \n",
       "126988                T2  0013j00002yi49FAAQ  \n",
       "\n",
       "[60832 rows x 5 columns]"
      ]
     },
     "execution_count": 27,
     "metadata": {},
     "output_type": "execute_result"
    }
   ],
   "source": [
    "# Visualizandos os valores duplicados do df2\n",
    "df2[(df2.duplicated() == True)]"
   ]
  },
  {
   "cell_type": "markdown",
   "metadata": {},
   "source": [
    "> O que significa esses valores na coluna 'produto_adquirido'?  \n",
    "> esses valores duplicados significa erro no dataset ou varios produtos entregues juntos?"
   ]
  },
  {
   "cell_type": "markdown",
   "metadata": {},
   "source": [
    "### Convertendo a coluna 'data' para o tipo 'date'"
   ]
  },
  {
   "cell_type": "code",
   "execution_count": 28,
   "metadata": {},
   "outputs": [
    {
     "name": "stdout",
     "output_type": "stream",
     "text": [
      "<class 'pandas.core.series.Series'>\n",
      "Int64Index: 77489 entries, 4 to 126988\n",
      "Series name: data\n",
      "Non-Null Count  Dtype \n",
      "--------------  ----- \n",
      "77489 non-null  object\n",
      "dtypes: object(1)\n",
      "memory usage: 1.2+ MB\n"
     ]
    }
   ],
   "source": [
    "# Verificando novamente qual 'type' está nossa variável 'data'\n",
    "df['data'].info()"
   ]
  },
  {
   "cell_type": "code",
   "execution_count": 29,
   "metadata": {},
   "outputs": [
    {
     "name": "stdout",
     "output_type": "stream",
     "text": [
      "<class 'pandas.core.series.Series'>\n",
      "Int64Index: 77489 entries, 4 to 126988\n",
      "Series name: data\n",
      "Non-Null Count  Dtype         \n",
      "--------------  -----         \n",
      "77489 non-null  datetime64[ns]\n",
      "dtypes: datetime64[ns](1)\n",
      "memory usage: 1.2 MB\n"
     ]
    }
   ],
   "source": [
    "# Transformando a variável 'data' para 'date' \n",
    "df['data'] = df['data'].astype('datetime64[ns]')\n",
    "df['data'].info()"
   ]
  },
  {
   "cell_type": "code",
   "execution_count": 30,
   "metadata": {},
   "outputs": [
    {
     "data": {
      "text/html": [
       "<div>\n",
       "<style scoped>\n",
       "    .dataframe tbody tr th:only-of-type {\n",
       "        vertical-align: middle;\n",
       "    }\n",
       "\n",
       "    .dataframe tbody tr th {\n",
       "        vertical-align: top;\n",
       "    }\n",
       "\n",
       "    .dataframe thead th {\n",
       "        text-align: right;\n",
       "    }\n",
       "</style>\n",
       "<table border=\"1\" class=\"dataframe\">\n",
       "  <thead>\n",
       "    <tr style=\"text-align: right;\">\n",
       "      <th></th>\n",
       "      <th>data</th>\n",
       "      <th>id_canal</th>\n",
       "      <th>tempo_espera</th>\n",
       "      <th>chamada_perdida</th>\n",
       "      <th>pesquisa_satisfacao</th>\n",
       "      <th>assunto</th>\n",
       "      <th>id</th>\n",
       "    </tr>\n",
       "  </thead>\n",
       "  <tbody>\n",
       "    <tr>\n",
       "      <th>4</th>\n",
       "      <td>2020-07-31</td>\n",
       "      <td>2.0</td>\n",
       "      <td>15.0</td>\n",
       "      <td>False</td>\n",
       "      <td>Sem_resposta</td>\n",
       "      <td>Aplicativo:Dúvidas funcionalidades App:Primeir...</td>\n",
       "      <td>0013j00002z0CeEAAU</td>\n",
       "    </tr>\n",
       "    <tr>\n",
       "      <th>5</th>\n",
       "      <td>2020-07-31</td>\n",
       "      <td>2.0</td>\n",
       "      <td>15.0</td>\n",
       "      <td>False</td>\n",
       "      <td>Sem_resposta</td>\n",
       "      <td>Produto:S920:Ativação</td>\n",
       "      <td>0013j00002z0CeEAAU</td>\n",
       "    </tr>\n",
       "    <tr>\n",
       "      <th>6</th>\n",
       "      <td>2020-09-23</td>\n",
       "      <td>2.0</td>\n",
       "      <td>1.0</td>\n",
       "      <td>False</td>\n",
       "      <td>Sem_resposta</td>\n",
       "      <td>Produto:Cartão pré-pago:Dúvidas</td>\n",
       "      <td>0013j00002z0CeEAAU</td>\n",
       "    </tr>\n",
       "    <tr>\n",
       "      <th>7</th>\n",
       "      <td>2020-08-29</td>\n",
       "      <td>2.0</td>\n",
       "      <td>6.0</td>\n",
       "      <td>False</td>\n",
       "      <td>Sem_resposta</td>\n",
       "      <td>Logística:Envio de Cartão:Tracking</td>\n",
       "      <td>0013j00002zQgldAAC</td>\n",
       "    </tr>\n",
       "    <tr>\n",
       "      <th>8</th>\n",
       "      <td>2020-08-29</td>\n",
       "      <td>2.0</td>\n",
       "      <td>6.0</td>\n",
       "      <td>False</td>\n",
       "      <td>Sem_resposta</td>\n",
       "      <td>Pedido:Cancelamento:Outros</td>\n",
       "      <td>0013j00002zQgldAAC</td>\n",
       "    </tr>\n",
       "  </tbody>\n",
       "</table>\n",
       "</div>"
      ],
      "text/plain": [
       "        data  id_canal  tempo_espera chamada_perdida pesquisa_satisfacao  \\\n",
       "4 2020-07-31       2.0          15.0           False        Sem_resposta   \n",
       "5 2020-07-31       2.0          15.0           False        Sem_resposta   \n",
       "6 2020-09-23       2.0           1.0           False        Sem_resposta   \n",
       "7 2020-08-29       2.0           6.0           False        Sem_resposta   \n",
       "8 2020-08-29       2.0           6.0           False        Sem_resposta   \n",
       "\n",
       "                                             assunto                  id  \n",
       "4  Aplicativo:Dúvidas funcionalidades App:Primeir...  0013j00002z0CeEAAU  \n",
       "5                              Produto:S920:Ativação  0013j00002z0CeEAAU  \n",
       "6                    Produto:Cartão pré-pago:Dúvidas  0013j00002z0CeEAAU  \n",
       "7                 Logística:Envio de Cartão:Tracking  0013j00002zQgldAAC  \n",
       "8                         Pedido:Cancelamento:Outros  0013j00002zQgldAAC  "
      ]
     },
     "execution_count": 30,
     "metadata": {},
     "output_type": "execute_result"
    }
   ],
   "source": [
    "df.head()"
   ]
  },
  {
   "cell_type": "code",
   "execution_count": 31,
   "metadata": {},
   "outputs": [
    {
     "data": {
      "text/html": [
       "<div>\n",
       "<style scoped>\n",
       "    .dataframe tbody tr th:only-of-type {\n",
       "        vertical-align: middle;\n",
       "    }\n",
       "\n",
       "    .dataframe tbody tr th {\n",
       "        vertical-align: top;\n",
       "    }\n",
       "\n",
       "    .dataframe thead th {\n",
       "        text-align: right;\n",
       "    }\n",
       "</style>\n",
       "<table border=\"1\" class=\"dataframe\">\n",
       "  <thead>\n",
       "    <tr style=\"text-align: right;\">\n",
       "      <th></th>\n",
       "      <th>data_cred</th>\n",
       "      <th>endereco_entrega_cidade</th>\n",
       "      <th>endereco_entrega_estado</th>\n",
       "      <th>produto_adquirido</th>\n",
       "      <th>id_conta</th>\n",
       "    </tr>\n",
       "  </thead>\n",
       "  <tbody>\n",
       "    <tr>\n",
       "      <th>0</th>\n",
       "      <td>2020-04-18</td>\n",
       "      <td>Feira de Santana</td>\n",
       "      <td>BA</td>\n",
       "      <td>T1</td>\n",
       "      <td>NaN</td>\n",
       "    </tr>\n",
       "    <tr>\n",
       "      <th>1</th>\n",
       "      <td>2020-10-16</td>\n",
       "      <td>Bacuri</td>\n",
       "      <td>MA</td>\n",
       "      <td>T1</td>\n",
       "      <td>NaN</td>\n",
       "    </tr>\n",
       "    <tr>\n",
       "      <th>2</th>\n",
       "      <td>2020-09-01</td>\n",
       "      <td>Bernardo Sayão</td>\n",
       "      <td>TO</td>\n",
       "      <td>T1</td>\n",
       "      <td>NaN</td>\n",
       "    </tr>\n",
       "    <tr>\n",
       "      <th>3</th>\n",
       "      <td>2020-08-29</td>\n",
       "      <td>Rio de Janeiro</td>\n",
       "      <td>RJ</td>\n",
       "      <td>T3</td>\n",
       "      <td>NaN</td>\n",
       "    </tr>\n",
       "    <tr>\n",
       "      <th>4</th>\n",
       "      <td>2020-07-28</td>\n",
       "      <td>São Gonçalo</td>\n",
       "      <td>RJ</td>\n",
       "      <td>T3</td>\n",
       "      <td>0013j00002z0CeEAAU</td>\n",
       "    </tr>\n",
       "  </tbody>\n",
       "</table>\n",
       "</div>"
      ],
      "text/plain": [
       "    data_cred endereco_entrega_cidade endereco_entrega_estado  \\\n",
       "0  2020-04-18        Feira de Santana                      BA   \n",
       "1  2020-10-16                  Bacuri                      MA   \n",
       "2  2020-09-01          Bernardo Sayão                      TO   \n",
       "3  2020-08-29          Rio de Janeiro                      RJ   \n",
       "4  2020-07-28             São Gonçalo                      RJ   \n",
       "\n",
       "  produto_adquirido            id_conta  \n",
       "0                T1                 NaN  \n",
       "1                T1                 NaN  \n",
       "2                T1                 NaN  \n",
       "3                T3                 NaN  \n",
       "4                T3  0013j00002z0CeEAAU  "
      ]
     },
     "execution_count": 31,
     "metadata": {},
     "output_type": "execute_result"
    }
   ],
   "source": [
    "df2.head()"
   ]
  },
  {
   "cell_type": "markdown",
   "metadata": {},
   "source": [
    "### Manipulação dos Dados"
   ]
  },
  {
   "cell_type": "markdown",
   "metadata": {},
   "source": [
    "Vamos fazer outras manipulações que serão conveniente para posterior análise dos dados"
   ]
  },
  {
   "cell_type": "code",
   "execution_count": 32,
   "metadata": {},
   "outputs": [],
   "source": [
    "# Irei atribuir strings na váriavel 'id_canal' para ficar de melhor entendimento\n",
    "df['id_canal'] = np.where((df['id_canal'] == 1.0), 'Chat',\n",
    "                 np.where((df['id_canal'] == 2.0), 'Telefone',\n",
    "                 np.where((df['id_canal'] == 3.0), 'Email',\n",
    "                 np.nan)))"
   ]
  },
  {
   "cell_type": "code",
   "execution_count": 33,
   "metadata": {},
   "outputs": [
    {
     "data": {
      "text/plain": [
       "Telefone    77489\n",
       "Name: id_canal, dtype: int64"
      ]
     },
     "execution_count": 33,
     "metadata": {},
     "output_type": "execute_result"
    }
   ],
   "source": [
    "# Aqui é possível verificar que todas as chamadas foram feitas via telefone\n",
    "df['id_canal'].value_counts()"
   ]
  },
  {
   "cell_type": "code",
   "execution_count": 34,
   "metadata": {},
   "outputs": [
    {
     "data": {
      "text/html": [
       "<div>\n",
       "<style scoped>\n",
       "    .dataframe tbody tr th:only-of-type {\n",
       "        vertical-align: middle;\n",
       "    }\n",
       "\n",
       "    .dataframe tbody tr th {\n",
       "        vertical-align: top;\n",
       "    }\n",
       "\n",
       "    .dataframe thead th {\n",
       "        text-align: right;\n",
       "    }\n",
       "</style>\n",
       "<table border=\"1\" class=\"dataframe\">\n",
       "  <thead>\n",
       "    <tr style=\"text-align: right;\">\n",
       "      <th></th>\n",
       "      <th>data</th>\n",
       "      <th>id_canal</th>\n",
       "      <th>tempo_espera</th>\n",
       "      <th>chamada_perdida</th>\n",
       "      <th>pesquisa_satisfacao</th>\n",
       "      <th>assunto</th>\n",
       "      <th>id</th>\n",
       "    </tr>\n",
       "  </thead>\n",
       "  <tbody>\n",
       "    <tr>\n",
       "      <th>4</th>\n",
       "      <td>2020-07-31</td>\n",
       "      <td>Telefone</td>\n",
       "      <td>15.0</td>\n",
       "      <td>False</td>\n",
       "      <td>Sem_resposta</td>\n",
       "      <td>Aplicativo:Dúvidas funcionalidades App:Primeir...</td>\n",
       "      <td>0013j00002z0CeEAAU</td>\n",
       "    </tr>\n",
       "    <tr>\n",
       "      <th>5</th>\n",
       "      <td>2020-07-31</td>\n",
       "      <td>Telefone</td>\n",
       "      <td>15.0</td>\n",
       "      <td>False</td>\n",
       "      <td>Sem_resposta</td>\n",
       "      <td>Produto:S920:Ativação</td>\n",
       "      <td>0013j00002z0CeEAAU</td>\n",
       "    </tr>\n",
       "    <tr>\n",
       "      <th>6</th>\n",
       "      <td>2020-09-23</td>\n",
       "      <td>Telefone</td>\n",
       "      <td>1.0</td>\n",
       "      <td>False</td>\n",
       "      <td>Sem_resposta</td>\n",
       "      <td>Produto:Cartão pré-pago:Dúvidas</td>\n",
       "      <td>0013j00002z0CeEAAU</td>\n",
       "    </tr>\n",
       "    <tr>\n",
       "      <th>7</th>\n",
       "      <td>2020-08-29</td>\n",
       "      <td>Telefone</td>\n",
       "      <td>6.0</td>\n",
       "      <td>False</td>\n",
       "      <td>Sem_resposta</td>\n",
       "      <td>Logística:Envio de Cartão:Tracking</td>\n",
       "      <td>0013j00002zQgldAAC</td>\n",
       "    </tr>\n",
       "    <tr>\n",
       "      <th>8</th>\n",
       "      <td>2020-08-29</td>\n",
       "      <td>Telefone</td>\n",
       "      <td>6.0</td>\n",
       "      <td>False</td>\n",
       "      <td>Sem_resposta</td>\n",
       "      <td>Pedido:Cancelamento:Outros</td>\n",
       "      <td>0013j00002zQgldAAC</td>\n",
       "    </tr>\n",
       "  </tbody>\n",
       "</table>\n",
       "</div>"
      ],
      "text/plain": [
       "        data  id_canal  tempo_espera chamada_perdida pesquisa_satisfacao  \\\n",
       "4 2020-07-31  Telefone          15.0           False        Sem_resposta   \n",
       "5 2020-07-31  Telefone          15.0           False        Sem_resposta   \n",
       "6 2020-09-23  Telefone           1.0           False        Sem_resposta   \n",
       "7 2020-08-29  Telefone           6.0           False        Sem_resposta   \n",
       "8 2020-08-29  Telefone           6.0           False        Sem_resposta   \n",
       "\n",
       "                                             assunto                  id  \n",
       "4  Aplicativo:Dúvidas funcionalidades App:Primeir...  0013j00002z0CeEAAU  \n",
       "5                              Produto:S920:Ativação  0013j00002z0CeEAAU  \n",
       "6                    Produto:Cartão pré-pago:Dúvidas  0013j00002z0CeEAAU  \n",
       "7                 Logística:Envio de Cartão:Tracking  0013j00002zQgldAAC  \n",
       "8                         Pedido:Cancelamento:Outros  0013j00002zQgldAAC  "
      ]
     },
     "execution_count": 34,
     "metadata": {},
     "output_type": "execute_result"
    }
   ],
   "source": [
    "df.head()"
   ]
  },
  {
   "cell_type": "markdown",
   "metadata": {},
   "source": [
    "### Resumo Estatístico"
   ]
  },
  {
   "cell_type": "code",
   "execution_count": 35,
   "metadata": {},
   "outputs": [
    {
     "data": {
      "text/html": [
       "<div>\n",
       "<style scoped>\n",
       "    .dataframe tbody tr th:only-of-type {\n",
       "        vertical-align: middle;\n",
       "    }\n",
       "\n",
       "    .dataframe tbody tr th {\n",
       "        vertical-align: top;\n",
       "    }\n",
       "\n",
       "    .dataframe thead th {\n",
       "        text-align: right;\n",
       "    }\n",
       "</style>\n",
       "<table border=\"1\" class=\"dataframe\">\n",
       "  <thead>\n",
       "    <tr style=\"text-align: right;\">\n",
       "      <th></th>\n",
       "      <th>tempo_espera</th>\n",
       "    </tr>\n",
       "  </thead>\n",
       "  <tbody>\n",
       "    <tr>\n",
       "      <th>count</th>\n",
       "      <td>77489.000000</td>\n",
       "    </tr>\n",
       "    <tr>\n",
       "      <th>mean</th>\n",
       "      <td>17.224767</td>\n",
       "    </tr>\n",
       "    <tr>\n",
       "      <th>std</th>\n",
       "      <td>78.520336</td>\n",
       "    </tr>\n",
       "    <tr>\n",
       "      <th>min</th>\n",
       "      <td>0.000000</td>\n",
       "    </tr>\n",
       "    <tr>\n",
       "      <th>25%</th>\n",
       "      <td>6.000000</td>\n",
       "    </tr>\n",
       "    <tr>\n",
       "      <th>50%</th>\n",
       "      <td>9.000000</td>\n",
       "    </tr>\n",
       "    <tr>\n",
       "      <th>75%</th>\n",
       "      <td>14.000000</td>\n",
       "    </tr>\n",
       "    <tr>\n",
       "      <th>max</th>\n",
       "      <td>7993.000000</td>\n",
       "    </tr>\n",
       "  </tbody>\n",
       "</table>\n",
       "</div>"
      ],
      "text/plain": [
       "       tempo_espera\n",
       "count  77489.000000\n",
       "mean      17.224767\n",
       "std       78.520336\n",
       "min        0.000000\n",
       "25%        6.000000\n",
       "50%        9.000000\n",
       "75%       14.000000\n",
       "max     7993.000000"
      ]
     },
     "execution_count": 35,
     "metadata": {},
     "output_type": "execute_result"
    }
   ],
   "source": [
    "# Resumo estatístico dos datasets\n",
    "df.describe()"
   ]
  },
  {
   "cell_type": "code",
   "execution_count": 36,
   "metadata": {},
   "outputs": [
    {
     "data": {
      "text/html": [
       "<div>\n",
       "<style scoped>\n",
       "    .dataframe tbody tr th:only-of-type {\n",
       "        vertical-align: middle;\n",
       "    }\n",
       "\n",
       "    .dataframe tbody tr th {\n",
       "        vertical-align: top;\n",
       "    }\n",
       "\n",
       "    .dataframe thead th {\n",
       "        text-align: right;\n",
       "    }\n",
       "</style>\n",
       "<table border=\"1\" class=\"dataframe\">\n",
       "  <thead>\n",
       "    <tr style=\"text-align: right;\">\n",
       "      <th></th>\n",
       "      <th>id_canal</th>\n",
       "      <th>chamada_perdida</th>\n",
       "      <th>pesquisa_satisfacao</th>\n",
       "      <th>assunto</th>\n",
       "      <th>id</th>\n",
       "    </tr>\n",
       "  </thead>\n",
       "  <tbody>\n",
       "    <tr>\n",
       "      <th>count</th>\n",
       "      <td>77489</td>\n",
       "      <td>77489</td>\n",
       "      <td>77489</td>\n",
       "      <td>77489</td>\n",
       "      <td>77489</td>\n",
       "    </tr>\n",
       "    <tr>\n",
       "      <th>unique</th>\n",
       "      <td>1</td>\n",
       "      <td>2</td>\n",
       "      <td>11</td>\n",
       "      <td>221</td>\n",
       "      <td>31429</td>\n",
       "    </tr>\n",
       "    <tr>\n",
       "      <th>top</th>\n",
       "      <td>Telefone</td>\n",
       "      <td>False</td>\n",
       "      <td>Sem_resposta</td>\n",
       "      <td>Produto:Cartão pré-pago:Dúvidas</td>\n",
       "      <td>0011L00002WeMWyQAN</td>\n",
       "    </tr>\n",
       "    <tr>\n",
       "      <th>freq</th>\n",
       "      <td>77489</td>\n",
       "      <td>77483</td>\n",
       "      <td>65904</td>\n",
       "      <td>5153</td>\n",
       "      <td>56</td>\n",
       "    </tr>\n",
       "  </tbody>\n",
       "</table>\n",
       "</div>"
      ],
      "text/plain": [
       "        id_canal chamada_perdida pesquisa_satisfacao  \\\n",
       "count      77489           77489               77489   \n",
       "unique         1               2                  11   \n",
       "top     Telefone           False        Sem_resposta   \n",
       "freq       77489           77483               65904   \n",
       "\n",
       "                                assunto                  id  \n",
       "count                             77489               77489  \n",
       "unique                              221               31429  \n",
       "top     Produto:Cartão pré-pago:Dúvidas  0011L00002WeMWyQAN  \n",
       "freq                               5153                  56  "
      ]
     },
     "execution_count": 36,
     "metadata": {},
     "output_type": "execute_result"
    }
   ],
   "source": [
    "# Resumo estatistico das variáveis categoricas do df\n",
    "df[['id_canal', 'chamada_perdida', 'pesquisa_satisfacao', 'assunto', 'id']].describe()"
   ]
  },
  {
   "cell_type": "code",
   "execution_count": 37,
   "metadata": {},
   "outputs": [
    {
     "data": {
      "text/html": [
       "<div>\n",
       "<style scoped>\n",
       "    .dataframe tbody tr th:only-of-type {\n",
       "        vertical-align: middle;\n",
       "    }\n",
       "\n",
       "    .dataframe tbody tr th {\n",
       "        vertical-align: top;\n",
       "    }\n",
       "\n",
       "    .dataframe thead th {\n",
       "        text-align: right;\n",
       "    }\n",
       "</style>\n",
       "<table border=\"1\" class=\"dataframe\">\n",
       "  <thead>\n",
       "    <tr style=\"text-align: right;\">\n",
       "      <th></th>\n",
       "      <th>data_cred</th>\n",
       "      <th>endereco_entrega_cidade</th>\n",
       "      <th>endereco_entrega_estado</th>\n",
       "      <th>produto_adquirido</th>\n",
       "      <th>id_conta</th>\n",
       "    </tr>\n",
       "  </thead>\n",
       "  <tbody>\n",
       "    <tr>\n",
       "      <th>count</th>\n",
       "      <td>126989</td>\n",
       "      <td>126989</td>\n",
       "      <td>126989</td>\n",
       "      <td>126989</td>\n",
       "      <td>77489</td>\n",
       "    </tr>\n",
       "    <tr>\n",
       "      <th>unique</th>\n",
       "      <td>462</td>\n",
       "      <td>4141</td>\n",
       "      <td>27</td>\n",
       "      <td>4</td>\n",
       "      <td>31429</td>\n",
       "    </tr>\n",
       "    <tr>\n",
       "      <th>top</th>\n",
       "      <td>2020-09-01</td>\n",
       "      <td>São Paulo</td>\n",
       "      <td>SP</td>\n",
       "      <td>T1</td>\n",
       "      <td>0011L00002WeMWyQAN</td>\n",
       "    </tr>\n",
       "    <tr>\n",
       "      <th>freq</th>\n",
       "      <td>2579</td>\n",
       "      <td>10976</td>\n",
       "      <td>33998</td>\n",
       "      <td>48604</td>\n",
       "      <td>56</td>\n",
       "    </tr>\n",
       "  </tbody>\n",
       "</table>\n",
       "</div>"
      ],
      "text/plain": [
       "         data_cred endereco_entrega_cidade endereco_entrega_estado  \\\n",
       "count       126989                  126989                  126989   \n",
       "unique         462                    4141                      27   \n",
       "top     2020-09-01               São Paulo                      SP   \n",
       "freq          2579                   10976                   33998   \n",
       "\n",
       "       produto_adquirido            id_conta  \n",
       "count             126989               77489  \n",
       "unique                 4               31429  \n",
       "top                   T1  0011L00002WeMWyQAN  \n",
       "freq               48604                  56  "
      ]
     },
     "execution_count": 37,
     "metadata": {},
     "output_type": "execute_result"
    }
   ],
   "source": [
    "# Resumo estatístico df2\n",
    "df2.describe()"
   ]
  },
  {
   "cell_type": "markdown",
   "metadata": {},
   "source": [
    "# Questão 1"
   ]
  },
  {
   "cell_type": "markdown",
   "metadata": {},
   "source": [
    "1.\tFoi implementada no dia 1 de agosto uma funcionalidade nova no site do Ton que acredita que irá diminuir a quantidade de chamados recebidos. Avalie se a implementação teve um impacto estatisticamente relevante."
   ]
  },
  {
   "cell_type": "markdown",
   "metadata": {},
   "source": [
    "Aqui irei verificar qual a média de registros nos meses a partir de Agosto e comparar com a média dos registros antes de agostos.  \n",
    "Também é possível que se faça uma comparação na satisfação e tempo de espera."
   ]
  },
  {
   "cell_type": "code",
   "execution_count": 38,
   "metadata": {},
   "outputs": [
    {
     "data": {
      "text/html": [
       "<div>\n",
       "<style scoped>\n",
       "    .dataframe tbody tr th:only-of-type {\n",
       "        vertical-align: middle;\n",
       "    }\n",
       "\n",
       "    .dataframe tbody tr th {\n",
       "        vertical-align: top;\n",
       "    }\n",
       "\n",
       "    .dataframe thead th {\n",
       "        text-align: right;\n",
       "    }\n",
       "</style>\n",
       "<table border=\"1\" class=\"dataframe\">\n",
       "  <thead>\n",
       "    <tr style=\"text-align: right;\">\n",
       "      <th></th>\n",
       "      <th>data</th>\n",
       "      <th>id_canal</th>\n",
       "      <th>tempo_espera</th>\n",
       "      <th>chamada_perdida</th>\n",
       "      <th>pesquisa_satisfacao</th>\n",
       "      <th>assunto</th>\n",
       "      <th>id</th>\n",
       "    </tr>\n",
       "  </thead>\n",
       "  <tbody>\n",
       "    <tr>\n",
       "      <th>0</th>\n",
       "      <td>2020-02-23</td>\n",
       "      <td>Telefone</td>\n",
       "      <td>19.0</td>\n",
       "      <td>False</td>\n",
       "      <td>Enviado</td>\n",
       "      <td>Produto:mPOS:Dúvidas mpos</td>\n",
       "      <td>0011L00002ZbpnlQAB</td>\n",
       "    </tr>\n",
       "    <tr>\n",
       "      <th>1</th>\n",
       "      <td>2020-02-25</td>\n",
       "      <td>Telefone</td>\n",
       "      <td>15.0</td>\n",
       "      <td>False</td>\n",
       "      <td>Enviado</td>\n",
       "      <td>Aplicativo:Problema:</td>\n",
       "      <td>0011L00002dbBg5QAE</td>\n",
       "    </tr>\n",
       "    <tr>\n",
       "      <th>2</th>\n",
       "      <td>2020-02-26</td>\n",
       "      <td>Telefone</td>\n",
       "      <td>15.0</td>\n",
       "      <td>False</td>\n",
       "      <td>Enviado</td>\n",
       "      <td>Aplicativo:Dúvidas funcionalidades App:Redefin...</td>\n",
       "      <td>0011L00002WdgbcQAB</td>\n",
       "    </tr>\n",
       "    <tr>\n",
       "      <th>3</th>\n",
       "      <td>2020-02-26</td>\n",
       "      <td>Telefone</td>\n",
       "      <td>13.0</td>\n",
       "      <td>False</td>\n",
       "      <td>Enviado</td>\n",
       "      <td>Produto:mPOS:Problema POS - revertido</td>\n",
       "      <td>0011L00002WdJgjQAF</td>\n",
       "    </tr>\n",
       "    <tr>\n",
       "      <th>4</th>\n",
       "      <td>2020-02-26</td>\n",
       "      <td>Telefone</td>\n",
       "      <td>72.0</td>\n",
       "      <td>False</td>\n",
       "      <td>Enviado</td>\n",
       "      <td>Aplicativo::</td>\n",
       "      <td>0011L00002We7cjQAB</td>\n",
       "    </tr>\n",
       "  </tbody>\n",
       "</table>\n",
       "</div>"
      ],
      "text/plain": [
       "        data  id_canal  tempo_espera chamada_perdida pesquisa_satisfacao  \\\n",
       "0 2020-02-23  Telefone          19.0           False             Enviado   \n",
       "1 2020-02-25  Telefone          15.0           False             Enviado   \n",
       "2 2020-02-26  Telefone          15.0           False             Enviado   \n",
       "3 2020-02-26  Telefone          13.0           False             Enviado   \n",
       "4 2020-02-26  Telefone          72.0           False             Enviado   \n",
       "\n",
       "                                             assunto                  id  \n",
       "0                          Produto:mPOS:Dúvidas mpos  0011L00002ZbpnlQAB  \n",
       "1                               Aplicativo:Problema:  0011L00002dbBg5QAE  \n",
       "2  Aplicativo:Dúvidas funcionalidades App:Redefin...  0011L00002WdgbcQAB  \n",
       "3              Produto:mPOS:Problema POS - revertido  0011L00002WdJgjQAF  \n",
       "4                                       Aplicativo::  0011L00002We7cjQAB  "
      ]
     },
     "execution_count": 38,
     "metadata": {},
     "output_type": "execute_result"
    }
   ],
   "source": [
    "# Ordenando o dataset por data\n",
    "df = df.sort_values('data').reset_index(drop=True)\n",
    "df.head()"
   ]
  },
  {
   "cell_type": "code",
   "execution_count": 39,
   "metadata": {},
   "outputs": [
    {
     "data": {
      "text/html": [
       "<div>\n",
       "<style scoped>\n",
       "    .dataframe tbody tr th:only-of-type {\n",
       "        vertical-align: middle;\n",
       "    }\n",
       "\n",
       "    .dataframe tbody tr th {\n",
       "        vertical-align: top;\n",
       "    }\n",
       "\n",
       "    .dataframe thead th {\n",
       "        text-align: right;\n",
       "    }\n",
       "</style>\n",
       "<table border=\"1\" class=\"dataframe\">\n",
       "  <thead>\n",
       "    <tr style=\"text-align: right;\">\n",
       "      <th></th>\n",
       "      <th>data</th>\n",
       "      <th>id_canal</th>\n",
       "      <th>tempo_espera</th>\n",
       "      <th>chamada_perdida</th>\n",
       "      <th>pesquisa_satisfacao</th>\n",
       "      <th>assunto</th>\n",
       "      <th>id</th>\n",
       "    </tr>\n",
       "  </thead>\n",
       "  <tbody>\n",
       "    <tr>\n",
       "      <th>77484</th>\n",
       "      <td>2020-10-29</td>\n",
       "      <td>Telefone</td>\n",
       "      <td>3.0</td>\n",
       "      <td>False</td>\n",
       "      <td>Sem_resposta</td>\n",
       "      <td>Aplicativo:Dúvidas funcionalidades App:Prazos ...</td>\n",
       "      <td>0013j00002ymhaoAAA</td>\n",
       "    </tr>\n",
       "    <tr>\n",
       "      <th>77485</th>\n",
       "      <td>2020-10-29</td>\n",
       "      <td>Telefone</td>\n",
       "      <td>8.0</td>\n",
       "      <td>False</td>\n",
       "      <td>Sem_resposta</td>\n",
       "      <td>Aplicativo:Dúvidas funcionalidades App:Renda E...</td>\n",
       "      <td>0013j00002ynvv0AAA</td>\n",
       "    </tr>\n",
       "    <tr>\n",
       "      <th>77486</th>\n",
       "      <td>2020-10-29</td>\n",
       "      <td>Telefone</td>\n",
       "      <td>10.0</td>\n",
       "      <td>False</td>\n",
       "      <td>Sem_resposta</td>\n",
       "      <td>Aplicativo:Cartões:Ativação</td>\n",
       "      <td>0013j00002zfqezAAA</td>\n",
       "    </tr>\n",
       "    <tr>\n",
       "      <th>77487</th>\n",
       "      <td>2020-10-29</td>\n",
       "      <td>Telefone</td>\n",
       "      <td>4.0</td>\n",
       "      <td>False</td>\n",
       "      <td>Sem_resposta</td>\n",
       "      <td>Logística:OS:Tracking de OS</td>\n",
       "      <td>0013j000030CkBtAAK</td>\n",
       "    </tr>\n",
       "    <tr>\n",
       "      <th>77488</th>\n",
       "      <td>2020-10-29</td>\n",
       "      <td>Telefone</td>\n",
       "      <td>3.0</td>\n",
       "      <td>False</td>\n",
       "      <td>Sem_resposta</td>\n",
       "      <td>Aplicativo:Dúvidas funcionalidades App:Transfe...</td>\n",
       "      <td>0013j00002zeAEbAAM</td>\n",
       "    </tr>\n",
       "  </tbody>\n",
       "</table>\n",
       "</div>"
      ],
      "text/plain": [
       "            data  id_canal  tempo_espera chamada_perdida pesquisa_satisfacao  \\\n",
       "77484 2020-10-29  Telefone           3.0           False        Sem_resposta   \n",
       "77485 2020-10-29  Telefone           8.0           False        Sem_resposta   \n",
       "77486 2020-10-29  Telefone          10.0           False        Sem_resposta   \n",
       "77487 2020-10-29  Telefone           4.0           False        Sem_resposta   \n",
       "77488 2020-10-29  Telefone           3.0           False        Sem_resposta   \n",
       "\n",
       "                                                 assunto                  id  \n",
       "77484  Aplicativo:Dúvidas funcionalidades App:Prazos ...  0013j00002ymhaoAAA  \n",
       "77485  Aplicativo:Dúvidas funcionalidades App:Renda E...  0013j00002ynvv0AAA  \n",
       "77486                        Aplicativo:Cartões:Ativação  0013j00002zfqezAAA  \n",
       "77487                        Logística:OS:Tracking de OS  0013j000030CkBtAAK  \n",
       "77488  Aplicativo:Dúvidas funcionalidades App:Transfe...  0013j00002zeAEbAAM  "
      ]
     },
     "execution_count": 39,
     "metadata": {},
     "output_type": "execute_result"
    }
   ],
   "source": [
    "df.tail()"
   ]
  },
  {
   "cell_type": "code",
   "execution_count": 40,
   "metadata": {},
   "outputs": [],
   "source": [
    "df_ago = df[(df.data >= '2020-08-01')]"
   ]
  },
  {
   "cell_type": "code",
   "execution_count": 41,
   "metadata": {},
   "outputs": [],
   "source": [
    "q1 = df.copy()\n",
    "q1['Mês'] = np.where((df['data'] >= '2020-02-01') & (df['data'] <= '2020-02-29'), 'Fevereiro',\n",
    "            np.where((df['data'] >= '2020-03-01') & (df['data'] <= '2020-03-31'), 'Março',\n",
    "            np.where((df['data'] >= '2020-04-01') & (df['data'] <= '2020-04-30'), 'Abril',\n",
    "            np.where((df['data'] >= '2020-05-01') & (df['data'] <= '2020-05-31'), 'Maio',\n",
    "            np.where((df['data'] >= '2020-06-01') & (df['data'] <= '2020-06-30'), 'Junho',\n",
    "            np.where((df['data'] >= '2020-07-01') & (df['data'] <= '2020-07-31'), 'Julho',\n",
    "            np.where((df['data'] >= '2020-08-01') & (df['data'] <= '2020-08-31'), 'Agosto',\n",
    "            np.where((df['data'] >= '2020-09-01') & (df['data'] <= '2020-09-30'), 'Setembro',\n",
    "            'Outubro'\n",
    "            ))))))))"
   ]
  },
  {
   "cell_type": "code",
   "execution_count": 42,
   "metadata": {},
   "outputs": [],
   "source": [
    "q1['dia'] = q1['data'].dt.strftime('%d')"
   ]
  },
  {
   "cell_type": "code",
   "execution_count": 43,
   "metadata": {},
   "outputs": [
    {
     "data": {
      "text/html": [
       "<div>\n",
       "<style scoped>\n",
       "    .dataframe tbody tr th:only-of-type {\n",
       "        vertical-align: middle;\n",
       "    }\n",
       "\n",
       "    .dataframe tbody tr th {\n",
       "        vertical-align: top;\n",
       "    }\n",
       "\n",
       "    .dataframe thead th {\n",
       "        text-align: right;\n",
       "    }\n",
       "</style>\n",
       "<table border=\"1\" class=\"dataframe\">\n",
       "  <thead>\n",
       "    <tr style=\"text-align: right;\">\n",
       "      <th></th>\n",
       "      <th>data</th>\n",
       "      <th>id_canal</th>\n",
       "      <th>tempo_espera</th>\n",
       "      <th>chamada_perdida</th>\n",
       "      <th>pesquisa_satisfacao</th>\n",
       "      <th>assunto</th>\n",
       "      <th>id</th>\n",
       "      <th>Mês</th>\n",
       "      <th>dia</th>\n",
       "    </tr>\n",
       "  </thead>\n",
       "  <tbody>\n",
       "    <tr>\n",
       "      <th>0</th>\n",
       "      <td>2020-02-23</td>\n",
       "      <td>Telefone</td>\n",
       "      <td>19.0</td>\n",
       "      <td>False</td>\n",
       "      <td>Enviado</td>\n",
       "      <td>Produto:mPOS:Dúvidas mpos</td>\n",
       "      <td>0011L00002ZbpnlQAB</td>\n",
       "      <td>Fevereiro</td>\n",
       "      <td>23</td>\n",
       "    </tr>\n",
       "    <tr>\n",
       "      <th>1</th>\n",
       "      <td>2020-02-25</td>\n",
       "      <td>Telefone</td>\n",
       "      <td>15.0</td>\n",
       "      <td>False</td>\n",
       "      <td>Enviado</td>\n",
       "      <td>Aplicativo:Problema:</td>\n",
       "      <td>0011L00002dbBg5QAE</td>\n",
       "      <td>Fevereiro</td>\n",
       "      <td>25</td>\n",
       "    </tr>\n",
       "    <tr>\n",
       "      <th>2</th>\n",
       "      <td>2020-02-26</td>\n",
       "      <td>Telefone</td>\n",
       "      <td>15.0</td>\n",
       "      <td>False</td>\n",
       "      <td>Enviado</td>\n",
       "      <td>Aplicativo:Dúvidas funcionalidades App:Redefin...</td>\n",
       "      <td>0011L00002WdgbcQAB</td>\n",
       "      <td>Fevereiro</td>\n",
       "      <td>26</td>\n",
       "    </tr>\n",
       "    <tr>\n",
       "      <th>3</th>\n",
       "      <td>2020-02-26</td>\n",
       "      <td>Telefone</td>\n",
       "      <td>13.0</td>\n",
       "      <td>False</td>\n",
       "      <td>Enviado</td>\n",
       "      <td>Produto:mPOS:Problema POS - revertido</td>\n",
       "      <td>0011L00002WdJgjQAF</td>\n",
       "      <td>Fevereiro</td>\n",
       "      <td>26</td>\n",
       "    </tr>\n",
       "    <tr>\n",
       "      <th>4</th>\n",
       "      <td>2020-02-26</td>\n",
       "      <td>Telefone</td>\n",
       "      <td>72.0</td>\n",
       "      <td>False</td>\n",
       "      <td>Enviado</td>\n",
       "      <td>Aplicativo::</td>\n",
       "      <td>0011L00002We7cjQAB</td>\n",
       "      <td>Fevereiro</td>\n",
       "      <td>26</td>\n",
       "    </tr>\n",
       "    <tr>\n",
       "      <th>5</th>\n",
       "      <td>2020-02-26</td>\n",
       "      <td>Telefone</td>\n",
       "      <td>12.0</td>\n",
       "      <td>False</td>\n",
       "      <td>Sem_resposta</td>\n",
       "      <td>Transferência de saldo:Conta bancária:Problema</td>\n",
       "      <td>0011L00002cptcAQAQ</td>\n",
       "      <td>Fevereiro</td>\n",
       "      <td>26</td>\n",
       "    </tr>\n",
       "    <tr>\n",
       "      <th>6</th>\n",
       "      <td>2020-02-26</td>\n",
       "      <td>Telefone</td>\n",
       "      <td>12.0</td>\n",
       "      <td>False</td>\n",
       "      <td>Enviado</td>\n",
       "      <td>Aplicativo:Dúvidas funcionalidades App:Saldo</td>\n",
       "      <td>0011L00002cptcAQAQ</td>\n",
       "      <td>Fevereiro</td>\n",
       "      <td>26</td>\n",
       "    </tr>\n",
       "    <tr>\n",
       "      <th>7</th>\n",
       "      <td>2020-02-26</td>\n",
       "      <td>Telefone</td>\n",
       "      <td>13.0</td>\n",
       "      <td>False</td>\n",
       "      <td>Enviado</td>\n",
       "      <td>Aplicativo:Dúvidas funcionalidades App:Transfe...</td>\n",
       "      <td>0011L00002dcq90QAA</td>\n",
       "      <td>Fevereiro</td>\n",
       "      <td>26</td>\n",
       "    </tr>\n",
       "    <tr>\n",
       "      <th>8</th>\n",
       "      <td>2020-02-26</td>\n",
       "      <td>Telefone</td>\n",
       "      <td>20.0</td>\n",
       "      <td>False</td>\n",
       "      <td>Enviado</td>\n",
       "      <td>Produto:Modelo de recebimento:</td>\n",
       "      <td>0011L00002Wds1XQAR</td>\n",
       "      <td>Fevereiro</td>\n",
       "      <td>26</td>\n",
       "    </tr>\n",
       "    <tr>\n",
       "      <th>9</th>\n",
       "      <td>2020-02-26</td>\n",
       "      <td>Telefone</td>\n",
       "      <td>7.0</td>\n",
       "      <td>False</td>\n",
       "      <td>Enviado</td>\n",
       "      <td>Produto:mPOS:Ativação</td>\n",
       "      <td>0011L00002Zc66jQAB</td>\n",
       "      <td>Fevereiro</td>\n",
       "      <td>26</td>\n",
       "    </tr>\n",
       "  </tbody>\n",
       "</table>\n",
       "</div>"
      ],
      "text/plain": [
       "        data  id_canal  tempo_espera chamada_perdida pesquisa_satisfacao  \\\n",
       "0 2020-02-23  Telefone          19.0           False             Enviado   \n",
       "1 2020-02-25  Telefone          15.0           False             Enviado   \n",
       "2 2020-02-26  Telefone          15.0           False             Enviado   \n",
       "3 2020-02-26  Telefone          13.0           False             Enviado   \n",
       "4 2020-02-26  Telefone          72.0           False             Enviado   \n",
       "5 2020-02-26  Telefone          12.0           False        Sem_resposta   \n",
       "6 2020-02-26  Telefone          12.0           False             Enviado   \n",
       "7 2020-02-26  Telefone          13.0           False             Enviado   \n",
       "8 2020-02-26  Telefone          20.0           False             Enviado   \n",
       "9 2020-02-26  Telefone           7.0           False             Enviado   \n",
       "\n",
       "                                             assunto                  id  \\\n",
       "0                          Produto:mPOS:Dúvidas mpos  0011L00002ZbpnlQAB   \n",
       "1                               Aplicativo:Problema:  0011L00002dbBg5QAE   \n",
       "2  Aplicativo:Dúvidas funcionalidades App:Redefin...  0011L00002WdgbcQAB   \n",
       "3              Produto:mPOS:Problema POS - revertido  0011L00002WdJgjQAF   \n",
       "4                                       Aplicativo::  0011L00002We7cjQAB   \n",
       "5     Transferência de saldo:Conta bancária:Problema  0011L00002cptcAQAQ   \n",
       "6       Aplicativo:Dúvidas funcionalidades App:Saldo  0011L00002cptcAQAQ   \n",
       "7  Aplicativo:Dúvidas funcionalidades App:Transfe...  0011L00002dcq90QAA   \n",
       "8                     Produto:Modelo de recebimento:  0011L00002Wds1XQAR   \n",
       "9                              Produto:mPOS:Ativação  0011L00002Zc66jQAB   \n",
       "\n",
       "         Mês dia  \n",
       "0  Fevereiro  23  \n",
       "1  Fevereiro  25  \n",
       "2  Fevereiro  26  \n",
       "3  Fevereiro  26  \n",
       "4  Fevereiro  26  \n",
       "5  Fevereiro  26  \n",
       "6  Fevereiro  26  \n",
       "7  Fevereiro  26  \n",
       "8  Fevereiro  26  \n",
       "9  Fevereiro  26  "
      ]
     },
     "execution_count": 43,
     "metadata": {},
     "output_type": "execute_result"
    }
   ],
   "source": [
    "q1.head(10)"
   ]
  },
  {
   "cell_type": "code",
   "execution_count": 44,
   "metadata": {},
   "outputs": [
    {
     "data": {
      "text/html": [
       "<div>\n",
       "<style scoped>\n",
       "    .dataframe tbody tr th:only-of-type {\n",
       "        vertical-align: middle;\n",
       "    }\n",
       "\n",
       "    .dataframe tbody tr th {\n",
       "        vertical-align: top;\n",
       "    }\n",
       "\n",
       "    .dataframe thead th {\n",
       "        text-align: right;\n",
       "    }\n",
       "</style>\n",
       "<table border=\"1\" class=\"dataframe\">\n",
       "  <thead>\n",
       "    <tr style=\"text-align: right;\">\n",
       "      <th></th>\n",
       "      <th>Mês</th>\n",
       "      <th>dia</th>\n",
       "      <th>count</th>\n",
       "    </tr>\n",
       "  </thead>\n",
       "  <tbody>\n",
       "    <tr>\n",
       "      <th>0</th>\n",
       "      <td>Fevereiro</td>\n",
       "      <td>23</td>\n",
       "      <td>1</td>\n",
       "    </tr>\n",
       "    <tr>\n",
       "      <th>1</th>\n",
       "      <td>Fevereiro</td>\n",
       "      <td>25</td>\n",
       "      <td>1</td>\n",
       "    </tr>\n",
       "    <tr>\n",
       "      <th>2</th>\n",
       "      <td>Fevereiro</td>\n",
       "      <td>26</td>\n",
       "      <td>22</td>\n",
       "    </tr>\n",
       "    <tr>\n",
       "      <th>3</th>\n",
       "      <td>Fevereiro</td>\n",
       "      <td>27</td>\n",
       "      <td>31</td>\n",
       "    </tr>\n",
       "    <tr>\n",
       "      <th>4</th>\n",
       "      <td>Fevereiro</td>\n",
       "      <td>28</td>\n",
       "      <td>27</td>\n",
       "    </tr>\n",
       "    <tr>\n",
       "      <th>...</th>\n",
       "      <td>...</td>\n",
       "      <td>...</td>\n",
       "      <td>...</td>\n",
       "    </tr>\n",
       "    <tr>\n",
       "      <th>240</th>\n",
       "      <td>Outubro</td>\n",
       "      <td>25</td>\n",
       "      <td>208</td>\n",
       "    </tr>\n",
       "    <tr>\n",
       "      <th>241</th>\n",
       "      <td>Outubro</td>\n",
       "      <td>26</td>\n",
       "      <td>652</td>\n",
       "    </tr>\n",
       "    <tr>\n",
       "      <th>242</th>\n",
       "      <td>Outubro</td>\n",
       "      <td>27</td>\n",
       "      <td>627</td>\n",
       "    </tr>\n",
       "    <tr>\n",
       "      <th>243</th>\n",
       "      <td>Outubro</td>\n",
       "      <td>28</td>\n",
       "      <td>556</td>\n",
       "    </tr>\n",
       "    <tr>\n",
       "      <th>244</th>\n",
       "      <td>Outubro</td>\n",
       "      <td>29</td>\n",
       "      <td>544</td>\n",
       "    </tr>\n",
       "  </tbody>\n",
       "</table>\n",
       "<p>245 rows × 3 columns</p>\n",
       "</div>"
      ],
      "text/plain": [
       "           Mês dia  count\n",
       "0    Fevereiro  23      1\n",
       "1    Fevereiro  25      1\n",
       "2    Fevereiro  26     22\n",
       "3    Fevereiro  27     31\n",
       "4    Fevereiro  28     27\n",
       "..         ...  ..    ...\n",
       "240    Outubro  25    208\n",
       "241    Outubro  26    652\n",
       "242    Outubro  27    627\n",
       "243    Outubro  28    556\n",
       "244    Outubro  29    544\n",
       "\n",
       "[245 rows x 3 columns]"
      ]
     },
     "execution_count": 44,
     "metadata": {},
     "output_type": "execute_result"
    }
   ],
   "source": [
    "grafico1 = q1.groupby(['Mês', 'dia'], sort=False).agg({'id':'count'}).reset_index(drop = False)\n",
    "grafico1 = grafico1.rename(columns= {'id':'count'})\n",
    "grafico1"
   ]
  },
  {
   "cell_type": "markdown",
   "metadata": {},
   "source": [
    "> Vamos desconsiderar os dados de Fevereiro visto que as chamadas começaram a ser registrado apenas no final do mês"
   ]
  },
  {
   "cell_type": "code",
   "execution_count": 45,
   "metadata": {},
   "outputs": [
    {
     "data": {
      "text/html": [
       "<div>\n",
       "<style scoped>\n",
       "    .dataframe tbody tr th:only-of-type {\n",
       "        vertical-align: middle;\n",
       "    }\n",
       "\n",
       "    .dataframe tbody tr th {\n",
       "        vertical-align: top;\n",
       "    }\n",
       "\n",
       "    .dataframe thead th {\n",
       "        text-align: right;\n",
       "    }\n",
       "</style>\n",
       "<table border=\"1\" class=\"dataframe\">\n",
       "  <thead>\n",
       "    <tr style=\"text-align: right;\">\n",
       "      <th></th>\n",
       "      <th>Mês</th>\n",
       "      <th>dia</th>\n",
       "      <th>count</th>\n",
       "    </tr>\n",
       "  </thead>\n",
       "  <tbody>\n",
       "    <tr>\n",
       "      <th>6</th>\n",
       "      <td>Março</td>\n",
       "      <td>01</td>\n",
       "      <td>11</td>\n",
       "    </tr>\n",
       "    <tr>\n",
       "      <th>7</th>\n",
       "      <td>Março</td>\n",
       "      <td>02</td>\n",
       "      <td>46</td>\n",
       "    </tr>\n",
       "    <tr>\n",
       "      <th>8</th>\n",
       "      <td>Março</td>\n",
       "      <td>03</td>\n",
       "      <td>41</td>\n",
       "    </tr>\n",
       "    <tr>\n",
       "      <th>9</th>\n",
       "      <td>Março</td>\n",
       "      <td>04</td>\n",
       "      <td>53</td>\n",
       "    </tr>\n",
       "    <tr>\n",
       "      <th>10</th>\n",
       "      <td>Março</td>\n",
       "      <td>05</td>\n",
       "      <td>46</td>\n",
       "    </tr>\n",
       "    <tr>\n",
       "      <th>...</th>\n",
       "      <td>...</td>\n",
       "      <td>...</td>\n",
       "      <td>...</td>\n",
       "    </tr>\n",
       "    <tr>\n",
       "      <th>240</th>\n",
       "      <td>Outubro</td>\n",
       "      <td>25</td>\n",
       "      <td>208</td>\n",
       "    </tr>\n",
       "    <tr>\n",
       "      <th>241</th>\n",
       "      <td>Outubro</td>\n",
       "      <td>26</td>\n",
       "      <td>652</td>\n",
       "    </tr>\n",
       "    <tr>\n",
       "      <th>242</th>\n",
       "      <td>Outubro</td>\n",
       "      <td>27</td>\n",
       "      <td>627</td>\n",
       "    </tr>\n",
       "    <tr>\n",
       "      <th>243</th>\n",
       "      <td>Outubro</td>\n",
       "      <td>28</td>\n",
       "      <td>556</td>\n",
       "    </tr>\n",
       "    <tr>\n",
       "      <th>244</th>\n",
       "      <td>Outubro</td>\n",
       "      <td>29</td>\n",
       "      <td>544</td>\n",
       "    </tr>\n",
       "  </tbody>\n",
       "</table>\n",
       "<p>239 rows × 3 columns</p>\n",
       "</div>"
      ],
      "text/plain": [
       "         Mês dia  count\n",
       "6      Março  01     11\n",
       "7      Março  02     46\n",
       "8      Março  03     41\n",
       "9      Março  04     53\n",
       "10     Março  05     46\n",
       "..       ...  ..    ...\n",
       "240  Outubro  25    208\n",
       "241  Outubro  26    652\n",
       "242  Outubro  27    627\n",
       "243  Outubro  28    556\n",
       "244  Outubro  29    544\n",
       "\n",
       "[239 rows x 3 columns]"
      ]
     },
     "execution_count": 45,
     "metadata": {},
     "output_type": "execute_result"
    }
   ],
   "source": [
    "grafico1 = grafico1[(grafico1['Mês'] != 'Fevereiro')]\n",
    "grafico1"
   ]
  },
  {
   "cell_type": "code",
   "execution_count": 51,
   "metadata": {},
   "outputs": [
    {
     "data": {
      "image/png": "[encoded data removed]",
      "text/plain": [
       "<Figure size 864x576 with 1 Axes>"
      ]
     },
     "metadata": {
      "needs_background": "light"
     },
     "output_type": "display_data"
    }
   ],
   "source": [
    "# https://seaborn.pydata.org/generated/seaborn.lineplot.html\n",
    "plt.figure(figsize=(12,8))\n",
    "\n",
    "sns.lineplot(data = grafico1, x = 'dia', y = 'count', hue = 'Mês', style = 'Mês', markers = True)\n",
    "plt.show()"
   ]
  },
  {
   "cell_type": "markdown",
   "metadata": {},
   "source": [
    "> Não é possível notar um padrão no número de chamadas com base no dia da semana"
   ]
  },
  {
   "cell_type": "code",
   "execution_count": null,
   "metadata": {},
   "outputs": [
    {
     "data": {
      "text/html": [
       "<div>\n",
       "<style scoped>\n",
       "    .dataframe tbody tr th:only-of-type {\n",
       "        vertical-align: middle;\n",
       "    }\n",
       "\n",
       "    .dataframe tbody tr th {\n",
       "        vertical-align: top;\n",
       "    }\n",
       "\n",
       "    .dataframe thead th {\n",
       "        text-align: right;\n",
       "    }\n",
       "</style>\n",
       "<table border=\"1\" class=\"dataframe\">\n",
       "  <thead>\n",
       "    <tr style=\"text-align: right;\">\n",
       "      <th></th>\n",
       "      <th>Mês</th>\n",
       "      <th>count</th>\n",
       "    </tr>\n",
       "  </thead>\n",
       "  <tbody>\n",
       "    <tr>\n",
       "      <th>0</th>\n",
       "      <td>Fevereiro</td>\n",
       "      <td>91</td>\n",
       "    </tr>\n",
       "    <tr>\n",
       "      <th>1</th>\n",
       "      <td>Março</td>\n",
       "      <td>708</td>\n",
       "    </tr>\n",
       "    <tr>\n",
       "      <th>2</th>\n",
       "      <td>Abril</td>\n",
       "      <td>1730</td>\n",
       "    </tr>\n",
       "    <tr>\n",
       "      <th>3</th>\n",
       "      <td>Maio</td>\n",
       "      <td>3978</td>\n",
       "    </tr>\n",
       "    <tr>\n",
       "      <th>4</th>\n",
       "      <td>Junho</td>\n",
       "      <td>8587</td>\n",
       "    </tr>\n",
       "    <tr>\n",
       "      <th>5</th>\n",
       "      <td>Julho</td>\n",
       "      <td>15318</td>\n",
       "    </tr>\n",
       "    <tr>\n",
       "      <th>6</th>\n",
       "      <td>Agosto</td>\n",
       "      <td>14305</td>\n",
       "    </tr>\n",
       "    <tr>\n",
       "      <th>7</th>\n",
       "      <td>Setembro</td>\n",
       "      <td>17381</td>\n",
       "    </tr>\n",
       "    <tr>\n",
       "      <th>8</th>\n",
       "      <td>Outubro</td>\n",
       "      <td>15391</td>\n",
       "    </tr>\n",
       "  </tbody>\n",
       "</table>\n",
       "</div>"
      ],
      "text/plain": [
       "         Mês  count\n",
       "0  Fevereiro     91\n",
       "1      Março    708\n",
       "2      Abril   1730\n",
       "3       Maio   3978\n",
       "4      Junho   8587\n",
       "5      Julho  15318\n",
       "6     Agosto  14305\n",
       "7   Setembro  17381\n",
       "8    Outubro  15391"
      ]
     },
     "execution_count": 46,
     "metadata": {},
     "output_type": "execute_result"
    }
   ],
   "source": [
    "grafico12 = q1.groupby(['Mês'], sort=False).agg({'id':'count'}).reset_index(drop = False)\n",
    "grafico12 = grafico12.rename(columns= {'id':'count'})\n",
    "grafico12"
   ]
  },
  {
   "cell_type": "code",
   "execution_count": 52,
   "metadata": {},
   "outputs": [
    {
     "data": {
      "text/plain": [
       "31"
      ]
     },
     "execution_count": 52,
     "metadata": {},
     "output_type": "execute_result"
    }
   ],
   "source": [
    "# q1.data.dt.strftime('%d').unique()"
   ]
  },
  {
   "cell_type": "markdown",
   "metadata": {},
   "source": [
    "> Podemos desconsiderar o mês de Fevereiro das Análises pois os registros começam ao final do mês. "
   ]
  },
  {
   "cell_type": "code",
   "execution_count": 57,
   "metadata": {},
   "outputs": [
    {
     "data": {
      "text/html": [
       "<div>\n",
       "<style scoped>\n",
       "    .dataframe tbody tr th:only-of-type {\n",
       "        vertical-align: middle;\n",
       "    }\n",
       "\n",
       "    .dataframe tbody tr th {\n",
       "        vertical-align: top;\n",
       "    }\n",
       "\n",
       "    .dataframe thead th {\n",
       "        text-align: right;\n",
       "    }\n",
       "</style>\n",
       "<table border=\"1\" class=\"dataframe\">\n",
       "  <thead>\n",
       "    <tr style=\"text-align: right;\">\n",
       "      <th></th>\n",
       "      <th>Mês</th>\n",
       "      <th>count</th>\n",
       "    </tr>\n",
       "  </thead>\n",
       "  <tbody>\n",
       "    <tr>\n",
       "      <th>0</th>\n",
       "      <td>Fevereiro</td>\n",
       "      <td>91</td>\n",
       "    </tr>\n",
       "    <tr>\n",
       "      <th>1</th>\n",
       "      <td>Março</td>\n",
       "      <td>708</td>\n",
       "    </tr>\n",
       "    <tr>\n",
       "      <th>2</th>\n",
       "      <td>Abril</td>\n",
       "      <td>1730</td>\n",
       "    </tr>\n",
       "    <tr>\n",
       "      <th>3</th>\n",
       "      <td>Maio</td>\n",
       "      <td>3978</td>\n",
       "    </tr>\n",
       "    <tr>\n",
       "      <th>4</th>\n",
       "      <td>Junho</td>\n",
       "      <td>8587</td>\n",
       "    </tr>\n",
       "    <tr>\n",
       "      <th>5</th>\n",
       "      <td>Julho</td>\n",
       "      <td>15318</td>\n",
       "    </tr>\n",
       "    <tr>\n",
       "      <th>6</th>\n",
       "      <td>Agosto</td>\n",
       "      <td>14305</td>\n",
       "    </tr>\n",
       "    <tr>\n",
       "      <th>7</th>\n",
       "      <td>Setembro</td>\n",
       "      <td>17381</td>\n",
       "    </tr>\n",
       "    <tr>\n",
       "      <th>8</th>\n",
       "      <td>Outubro</td>\n",
       "      <td>15391</td>\n",
       "    </tr>\n",
       "  </tbody>\n",
       "</table>\n",
       "</div>"
      ],
      "text/plain": [
       "         Mês  count\n",
       "0  Fevereiro     91\n",
       "1      Março    708\n",
       "2      Abril   1730\n",
       "3       Maio   3978\n",
       "4      Junho   8587\n",
       "5      Julho  15318\n",
       "6     Agosto  14305\n",
       "7   Setembro  17381\n",
       "8    Outubro  15391"
      ]
     },
     "execution_count": 57,
     "metadata": {},
     "output_type": "execute_result"
    }
   ],
   "source": [
    "grafico12 = q1.groupby('Mês', sort=False).agg({'id':'count'}).reset_index(drop = False)\n",
    "grafico12 = grafico12.rename(columns= {'id':'count'})\n",
    "grafico12"
   ]
  },
  {
   "cell_type": "code",
   "execution_count": 62,
   "metadata": {},
   "outputs": [
    {
     "data": {
      "image/png": "[encoded data removed]",
      "text/plain": [
       "<Figure size 864x576 with 1 Axes>"
      ]
     },
     "metadata": {
      "needs_background": "light"
     },
     "output_type": "display_data"
    }
   ],
   "source": [
    "plt.figure(figsize=(12,8))\n",
    "\n",
    "sns.lineplot(data = grafico12, x = 'Mês', y = 'count', markers = True)\n",
    "plt.show()"
   ]
  },
  {
   "cell_type": "code",
   "execution_count": 66,
   "metadata": {},
   "outputs": [
    {
     "data": {
      "text/plain": [
       "<AxesSubplot:xlabel='Mês', ylabel='count'>"
      ]
     },
     "execution_count": 66,
     "metadata": {},
     "output_type": "execute_result"
    },
    {
     "data": {
      "image/png": "[encoded data removed]",
      "text/plain": [
       "<Figure size 864x576 with 1 Axes>"
      ]
     },
     "metadata": {
      "needs_background": "light"
     },
     "output_type": "display_data"
    }
   ],
   "source": [
    "plt.figure(figsize=(12,8))\n",
    "\n",
    "sns.barplot(data = grafico12, x = 'Mês', y = 'count')"
   ]
  },
  {
   "cell_type": "code",
   "execution_count": 85,
   "metadata": {},
   "outputs": [],
   "source": [
    "grafico13 = grafico12.copy()\n",
    "grafico13\n",
    "grafico13['media'] = np.where((grafico13['Mês'] == 'Agosto') | (grafico13['Mês'] == 'Setembro') | (grafico13['Mês'] == 'Outubro'),'Pos Mudanca', 'Pre Mudanca')"
   ]
  },
  {
   "cell_type": "code",
   "execution_count": 86,
   "metadata": {},
   "outputs": [
    {
     "data": {
      "text/html": [
       "<div>\n",
       "<style scoped>\n",
       "    .dataframe tbody tr th:only-of-type {\n",
       "        vertical-align: middle;\n",
       "    }\n",
       "\n",
       "    .dataframe tbody tr th {\n",
       "        vertical-align: top;\n",
       "    }\n",
       "\n",
       "    .dataframe thead th {\n",
       "        text-align: right;\n",
       "    }\n",
       "</style>\n",
       "<table border=\"1\" class=\"dataframe\">\n",
       "  <thead>\n",
       "    <tr style=\"text-align: right;\">\n",
       "      <th></th>\n",
       "      <th>Mês</th>\n",
       "      <th>count</th>\n",
       "      <th>media</th>\n",
       "    </tr>\n",
       "  </thead>\n",
       "  <tbody>\n",
       "    <tr>\n",
       "      <th>0</th>\n",
       "      <td>Fevereiro</td>\n",
       "      <td>91</td>\n",
       "      <td>Pre Mudanca</td>\n",
       "    </tr>\n",
       "    <tr>\n",
       "      <th>1</th>\n",
       "      <td>Março</td>\n",
       "      <td>708</td>\n",
       "      <td>Pre Mudanca</td>\n",
       "    </tr>\n",
       "    <tr>\n",
       "      <th>2</th>\n",
       "      <td>Abril</td>\n",
       "      <td>1730</td>\n",
       "      <td>Pre Mudanca</td>\n",
       "    </tr>\n",
       "    <tr>\n",
       "      <th>3</th>\n",
       "      <td>Maio</td>\n",
       "      <td>3978</td>\n",
       "      <td>Pre Mudanca</td>\n",
       "    </tr>\n",
       "    <tr>\n",
       "      <th>4</th>\n",
       "      <td>Junho</td>\n",
       "      <td>8587</td>\n",
       "      <td>Pre Mudanca</td>\n",
       "    </tr>\n",
       "    <tr>\n",
       "      <th>5</th>\n",
       "      <td>Julho</td>\n",
       "      <td>15318</td>\n",
       "      <td>Pre Mudanca</td>\n",
       "    </tr>\n",
       "    <tr>\n",
       "      <th>6</th>\n",
       "      <td>Agosto</td>\n",
       "      <td>14305</td>\n",
       "      <td>Pos Mudanca</td>\n",
       "    </tr>\n",
       "    <tr>\n",
       "      <th>7</th>\n",
       "      <td>Setembro</td>\n",
       "      <td>17381</td>\n",
       "      <td>Pos Mudanca</td>\n",
       "    </tr>\n",
       "    <tr>\n",
       "      <th>8</th>\n",
       "      <td>Outubro</td>\n",
       "      <td>15391</td>\n",
       "      <td>Pos Mudanca</td>\n",
       "    </tr>\n",
       "  </tbody>\n",
       "</table>\n",
       "</div>"
      ],
      "text/plain": [
       "         Mês  count        media\n",
       "0  Fevereiro     91  Pre Mudanca\n",
       "1      Março    708  Pre Mudanca\n",
       "2      Abril   1730  Pre Mudanca\n",
       "3       Maio   3978  Pre Mudanca\n",
       "4      Junho   8587  Pre Mudanca\n",
       "5      Julho  15318  Pre Mudanca\n",
       "6     Agosto  14305  Pos Mudanca\n",
       "7   Setembro  17381  Pos Mudanca\n",
       "8    Outubro  15391  Pos Mudanca"
      ]
     },
     "execution_count": 86,
     "metadata": {},
     "output_type": "execute_result"
    }
   ],
   "source": [
    "grafico13"
   ]
  },
  {
   "cell_type": "code",
   "execution_count": 90,
   "metadata": {},
   "outputs": [
    {
     "data": {
      "text/html": [
       "<div>\n",
       "<style scoped>\n",
       "    .dataframe tbody tr th:only-of-type {\n",
       "        vertical-align: middle;\n",
       "    }\n",
       "\n",
       "    .dataframe tbody tr th {\n",
       "        vertical-align: top;\n",
       "    }\n",
       "\n",
       "    .dataframe thead th {\n",
       "        text-align: right;\n",
       "    }\n",
       "</style>\n",
       "<table border=\"1\" class=\"dataframe\">\n",
       "  <thead>\n",
       "    <tr style=\"text-align: right;\">\n",
       "      <th></th>\n",
       "      <th>Mudanca</th>\n",
       "      <th>Media</th>\n",
       "    </tr>\n",
       "  </thead>\n",
       "  <tbody>\n",
       "    <tr>\n",
       "      <th>0</th>\n",
       "      <td>Pos Mudanca</td>\n",
       "      <td>15692.333333</td>\n",
       "    </tr>\n",
       "    <tr>\n",
       "      <th>1</th>\n",
       "      <td>Pre Mudanca</td>\n",
       "      <td>5068.666667</td>\n",
       "    </tr>\n",
       "  </tbody>\n",
       "</table>\n",
       "</div>"
      ],
      "text/plain": [
       "       Mudanca         Media\n",
       "0  Pos Mudanca  15692.333333\n",
       "1  Pre Mudanca   5068.666667"
      ]
     },
     "execution_count": 90,
     "metadata": {},
     "output_type": "execute_result"
    }
   ],
   "source": [
    "grafico13 = grafico13.groupby('media').agg({'count':'mean'}).reset_index(drop = False)\n",
    "grafico13.columns = ['Mudanca', 'Media']\n",
    "grafico13"
   ]
  },
  {
   "cell_type": "code",
   "execution_count": 91,
   "metadata": {},
   "outputs": [
    {
     "data": {
      "text/plain": [
       "<AxesSubplot:xlabel='Mudanca', ylabel='Media'>"
      ]
     },
     "execution_count": 91,
     "metadata": {},
     "output_type": "execute_result"
    },
    {
     "data": {
      "image/png": "[encoded data removed]",
      "text/plain": [
       "<Figure size 864x576 with 1 Axes>"
      ]
     },
     "metadata": {
      "needs_background": "light"
     },
     "output_type": "display_data"
    }
   ],
   "source": [
    "# Gráfico que mostra a média de chamadas antes e pós a mudança\n",
    "plt.figure(figsize=(12,8))\n",
    "\n",
    "sns.barplot(x = grafico13['Mudanca'] , y = grafico13['Media'])"
   ]
  },
  {
   "cell_type": "markdown",
   "metadata": {},
   "source": [
    "> Duas respostas possíveis: Ou eu preciso fazer mais uma limpeza de dados e talvez haja valores duplicados para Setembro, Outubro, etc. ou a mudança nao surtiu efeito"
   ]
  },
  {
   "cell_type": "markdown",
   "metadata": {},
   "source": [
    "# Questão 2"
   ]
  },
  {
   "cell_type": "markdown",
   "metadata": {},
   "source": [
    "2.\tFoi notado pelo nosso time que clientes recem credenciados possuem um comportamento específico em relação à quantidade de chamados realizados logo após seu credenciamento. Identifique e prepare alguma forma de visualizar essa diferença notada pelos agentes."
   ]
  },
  {
   "cell_type": "markdown",
   "metadata": {},
   "source": [
    "# Questão 3"
   ]
  },
  {
   "cell_type": "markdown",
   "metadata": {},
   "source": [
    "3.\tPara conseguir melhorar a qualidade do nosso atendimento ao cliente, foi proposto que a alguns chamados tenham prioridade de atendimento. Levando em consideração o motivo dos chamados, como você estabeleceria essa prioridade da fila de espera? Sugestão: Proponha uma clusterização da base de clientes que julgue atender da melhor forma a necessidade apresentada."
   ]
  },
  {
   "cell_type": "markdown",
   "metadata": {},
   "source": [
    "# Questão 4"
   ]
  },
  {
   "cell_type": "markdown",
   "metadata": {},
   "source": [
    "4.\tEscreva duas queries em SQL que retornem: \n",
    "\n",
    "i) o volume de chamados por semana dos últimos três meses para cada cluster de clientes proposto na questão 3.\n",
    "\n",
    "ii) uma série histórica dia a dia, que para cada dia retorne o número de chamados referentes aos últimos 30 dias (por exemplo, para o dia 30/01, a query deve retornar a quantidade de chamados totais entre os dias 01/01 e 30/01)\n"
   ]
  },
  {
   "cell_type": "markdown",
   "metadata": {},
   "source": [
    "# Questão 5"
   ]
  },
  {
   "cell_type": "markdown",
   "metadata": {},
   "source": [
    "5.\tQuestão de estudo livre: Como é esperado de um analista de dados, traga insights relevantes sobre pontos de atenção e possíveis melhorias que você identificou ao analisar ambas as bases de dados. Além disso faça pelo menos duas perguntas relacionadas aos dados que julgue relevantes para análise, você também pode sugerir outros dados para enriquecer os aqui disponibilizados."
   ]
  }
 ],
 "metadata": {
  "kernelspec": {
   "display_name": "Python 3.9.12 ('base')",
   "language": "python",
   "name": "python3"
  },
  "language_info": {
   "codemirror_mode": {
    "name": "ipython",
    "version": 3
   },
   "file_extension": ".py",
   "mimetype": "text/x-python",
   "name": "python",
   "nbconvert_exporter": "python",
   "pygments_lexer": "ipython3",
   "version": "3.9.12"
  },
  "orig_nbformat": 4,
  "vscode": {
   "interpreter": {
    "hash": "789211c298edb5e664485b63a967a0f90e13561e856db0bcfe03f526a35fad28"
   }
  }
 },
 "nbformat": 4,
 "nbformat_minor": 2
}
